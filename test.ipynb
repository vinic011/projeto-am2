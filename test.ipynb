{
 "cells": [
  {
   "cell_type": "code",
   "execution_count": 1,
   "metadata": {},
   "outputs": [],
   "source": [
    "import pandas as pd\n",
    "import plotly.express as px\n",
    "from sklearn.preprocessing import StandardScaler\n",
    "import matplotlib.pyplot as plt\n",
    "from sklearn.metrics import silhouette_score,adjusted_rand_score\n",
    "from sklearn.cluster import AgglomerativeClustering, KMeans"
   ]
  },
  {
   "cell_type": "code",
   "execution_count": null,
   "metadata": {},
   "outputs": [],
   "source": [
    "#! pip install pandas plotly scikit-learn matplotlib"
   ]
  },
  {
   "cell_type": "code",
   "execution_count": 2,
   "metadata": {},
   "outputs": [],
   "source": [
    "train = pd.read_csv('train_ColorHistogram.csv')\n",
    "test = pd.read_csv('test_ColorHistogram.csv')"
   ]
  },
  {
   "cell_type": "markdown",
   "metadata": {},
   "source": [
    "## Exploratory Analysis\n",
    "\n",
    "Aqui vemos que a maior parte das colunas é inútil, pois só tem um valor. \n",
    "Vamos descartar essas colunas.\n",
    "\n",
    "Além disso, vamos usar o violin plot para ver a relação das features com a classe.\n",
    "\n",
    "Vemos que a V23 e a V2 parecem bem importantes para diferenciar as classes.\n",
    "\n",
    "Será realizado a normalização dos dados também, pois pode ser importante ao entrar em algoritmos baseados em distância."
   ]
  },
  {
   "cell_type": "code",
   "execution_count": 3,
   "metadata": {},
   "outputs": [
    {
     "name": "stdout",
     "output_type": "stream",
     "text": [
      "Unnamed: 0\n",
      "V2\n",
      "V23\n",
      "V44\n",
      "V65\n",
      "Class\n"
     ]
    }
   ],
   "source": [
    "util = []\n",
    "for col in train.columns:\n",
    "    if len(train[col].unique()) != 1:\n",
    "        print(col)\n",
    "        util.append(col)"
   ]
  },
  {
   "cell_type": "code",
   "execution_count": 4,
   "metadata": {},
   "outputs": [],
   "source": [
    "train1 = train[util[1:-1]]"
   ]
  },
  {
   "cell_type": "code",
   "execution_count": 5,
   "metadata": {},
   "outputs": [],
   "source": [
    "scaler = StandardScaler()"
   ]
  },
  {
   "cell_type": "code",
   "execution_count": 6,
   "metadata": {},
   "outputs": [
    {
     "data": {
      "text/html": [
       "<style>#sk-container-id-1 {\n",
       "  /* Definition of color scheme common for light and dark mode */\n",
       "  --sklearn-color-text: black;\n",
       "  --sklearn-color-line: gray;\n",
       "  /* Definition of color scheme for unfitted estimators */\n",
       "  --sklearn-color-unfitted-level-0: #fff5e6;\n",
       "  --sklearn-color-unfitted-level-1: #f6e4d2;\n",
       "  --sklearn-color-unfitted-level-2: #ffe0b3;\n",
       "  --sklearn-color-unfitted-level-3: chocolate;\n",
       "  /* Definition of color scheme for fitted estimators */\n",
       "  --sklearn-color-fitted-level-0: #f0f8ff;\n",
       "  --sklearn-color-fitted-level-1: #d4ebff;\n",
       "  --sklearn-color-fitted-level-2: #b3dbfd;\n",
       "  --sklearn-color-fitted-level-3: cornflowerblue;\n",
       "\n",
       "  /* Specific color for light theme */\n",
       "  --sklearn-color-text-on-default-background: var(--sg-text-color, var(--theme-code-foreground, var(--jp-content-font-color1, black)));\n",
       "  --sklearn-color-background: var(--sg-background-color, var(--theme-background, var(--jp-layout-color0, white)));\n",
       "  --sklearn-color-border-box: var(--sg-text-color, var(--theme-code-foreground, var(--jp-content-font-color1, black)));\n",
       "  --sklearn-color-icon: #696969;\n",
       "\n",
       "  @media (prefers-color-scheme: dark) {\n",
       "    /* Redefinition of color scheme for dark theme */\n",
       "    --sklearn-color-text-on-default-background: var(--sg-text-color, var(--theme-code-foreground, var(--jp-content-font-color1, white)));\n",
       "    --sklearn-color-background: var(--sg-background-color, var(--theme-background, var(--jp-layout-color0, #111)));\n",
       "    --sklearn-color-border-box: var(--sg-text-color, var(--theme-code-foreground, var(--jp-content-font-color1, white)));\n",
       "    --sklearn-color-icon: #878787;\n",
       "  }\n",
       "}\n",
       "\n",
       "#sk-container-id-1 {\n",
       "  color: var(--sklearn-color-text);\n",
       "}\n",
       "\n",
       "#sk-container-id-1 pre {\n",
       "  padding: 0;\n",
       "}\n",
       "\n",
       "#sk-container-id-1 input.sk-hidden--visually {\n",
       "  border: 0;\n",
       "  clip: rect(1px 1px 1px 1px);\n",
       "  clip: rect(1px, 1px, 1px, 1px);\n",
       "  height: 1px;\n",
       "  margin: -1px;\n",
       "  overflow: hidden;\n",
       "  padding: 0;\n",
       "  position: absolute;\n",
       "  width: 1px;\n",
       "}\n",
       "\n",
       "#sk-container-id-1 div.sk-dashed-wrapped {\n",
       "  border: 1px dashed var(--sklearn-color-line);\n",
       "  margin: 0 0.4em 0.5em 0.4em;\n",
       "  box-sizing: border-box;\n",
       "  padding-bottom: 0.4em;\n",
       "  background-color: var(--sklearn-color-background);\n",
       "}\n",
       "\n",
       "#sk-container-id-1 div.sk-container {\n",
       "  /* jupyter's `normalize.less` sets `[hidden] { display: none; }`\n",
       "     but bootstrap.min.css set `[hidden] { display: none !important; }`\n",
       "     so we also need the `!important` here to be able to override the\n",
       "     default hidden behavior on the sphinx rendered scikit-learn.org.\n",
       "     See: https://github.com/scikit-learn/scikit-learn/issues/21755 */\n",
       "  display: inline-block !important;\n",
       "  position: relative;\n",
       "}\n",
       "\n",
       "#sk-container-id-1 div.sk-text-repr-fallback {\n",
       "  display: none;\n",
       "}\n",
       "\n",
       "div.sk-parallel-item,\n",
       "div.sk-serial,\n",
       "div.sk-item {\n",
       "  /* draw centered vertical line to link estimators */\n",
       "  background-image: linear-gradient(var(--sklearn-color-text-on-default-background), var(--sklearn-color-text-on-default-background));\n",
       "  background-size: 2px 100%;\n",
       "  background-repeat: no-repeat;\n",
       "  background-position: center center;\n",
       "}\n",
       "\n",
       "/* Parallel-specific style estimator block */\n",
       "\n",
       "#sk-container-id-1 div.sk-parallel-item::after {\n",
       "  content: \"\";\n",
       "  width: 100%;\n",
       "  border-bottom: 2px solid var(--sklearn-color-text-on-default-background);\n",
       "  flex-grow: 1;\n",
       "}\n",
       "\n",
       "#sk-container-id-1 div.sk-parallel {\n",
       "  display: flex;\n",
       "  align-items: stretch;\n",
       "  justify-content: center;\n",
       "  background-color: var(--sklearn-color-background);\n",
       "  position: relative;\n",
       "}\n",
       "\n",
       "#sk-container-id-1 div.sk-parallel-item {\n",
       "  display: flex;\n",
       "  flex-direction: column;\n",
       "}\n",
       "\n",
       "#sk-container-id-1 div.sk-parallel-item:first-child::after {\n",
       "  align-self: flex-end;\n",
       "  width: 50%;\n",
       "}\n",
       "\n",
       "#sk-container-id-1 div.sk-parallel-item:last-child::after {\n",
       "  align-self: flex-start;\n",
       "  width: 50%;\n",
       "}\n",
       "\n",
       "#sk-container-id-1 div.sk-parallel-item:only-child::after {\n",
       "  width: 0;\n",
       "}\n",
       "\n",
       "/* Serial-specific style estimator block */\n",
       "\n",
       "#sk-container-id-1 div.sk-serial {\n",
       "  display: flex;\n",
       "  flex-direction: column;\n",
       "  align-items: center;\n",
       "  background-color: var(--sklearn-color-background);\n",
       "  padding-right: 1em;\n",
       "  padding-left: 1em;\n",
       "}\n",
       "\n",
       "\n",
       "/* Toggleable style: style used for estimator/Pipeline/ColumnTransformer box that is\n",
       "clickable and can be expanded/collapsed.\n",
       "- Pipeline and ColumnTransformer use this feature and define the default style\n",
       "- Estimators will overwrite some part of the style using the `sk-estimator` class\n",
       "*/\n",
       "\n",
       "/* Pipeline and ColumnTransformer style (default) */\n",
       "\n",
       "#sk-container-id-1 div.sk-toggleable {\n",
       "  /* Default theme specific background. It is overwritten whether we have a\n",
       "  specific estimator or a Pipeline/ColumnTransformer */\n",
       "  background-color: var(--sklearn-color-background);\n",
       "}\n",
       "\n",
       "/* Toggleable label */\n",
       "#sk-container-id-1 label.sk-toggleable__label {\n",
       "  cursor: pointer;\n",
       "  display: block;\n",
       "  width: 100%;\n",
       "  margin-bottom: 0;\n",
       "  padding: 0.5em;\n",
       "  box-sizing: border-box;\n",
       "  text-align: center;\n",
       "}\n",
       "\n",
       "#sk-container-id-1 label.sk-toggleable__label-arrow:before {\n",
       "  /* Arrow on the left of the label */\n",
       "  content: \"▸\";\n",
       "  float: left;\n",
       "  margin-right: 0.25em;\n",
       "  color: var(--sklearn-color-icon);\n",
       "}\n",
       "\n",
       "#sk-container-id-1 label.sk-toggleable__label-arrow:hover:before {\n",
       "  color: var(--sklearn-color-text);\n",
       "}\n",
       "\n",
       "/* Toggleable content - dropdown */\n",
       "\n",
       "#sk-container-id-1 div.sk-toggleable__content {\n",
       "  max-height: 0;\n",
       "  max-width: 0;\n",
       "  overflow: hidden;\n",
       "  text-align: left;\n",
       "  /* unfitted */\n",
       "  background-color: var(--sklearn-color-unfitted-level-0);\n",
       "}\n",
       "\n",
       "#sk-container-id-1 div.sk-toggleable__content.fitted {\n",
       "  /* fitted */\n",
       "  background-color: var(--sklearn-color-fitted-level-0);\n",
       "}\n",
       "\n",
       "#sk-container-id-1 div.sk-toggleable__content pre {\n",
       "  margin: 0.2em;\n",
       "  border-radius: 0.25em;\n",
       "  color: var(--sklearn-color-text);\n",
       "  /* unfitted */\n",
       "  background-color: var(--sklearn-color-unfitted-level-0);\n",
       "}\n",
       "\n",
       "#sk-container-id-1 div.sk-toggleable__content.fitted pre {\n",
       "  /* unfitted */\n",
       "  background-color: var(--sklearn-color-fitted-level-0);\n",
       "}\n",
       "\n",
       "#sk-container-id-1 input.sk-toggleable__control:checked~div.sk-toggleable__content {\n",
       "  /* Expand drop-down */\n",
       "  max-height: 200px;\n",
       "  max-width: 100%;\n",
       "  overflow: auto;\n",
       "}\n",
       "\n",
       "#sk-container-id-1 input.sk-toggleable__control:checked~label.sk-toggleable__label-arrow:before {\n",
       "  content: \"▾\";\n",
       "}\n",
       "\n",
       "/* Pipeline/ColumnTransformer-specific style */\n",
       "\n",
       "#sk-container-id-1 div.sk-label input.sk-toggleable__control:checked~label.sk-toggleable__label {\n",
       "  color: var(--sklearn-color-text);\n",
       "  background-color: var(--sklearn-color-unfitted-level-2);\n",
       "}\n",
       "\n",
       "#sk-container-id-1 div.sk-label.fitted input.sk-toggleable__control:checked~label.sk-toggleable__label {\n",
       "  background-color: var(--sklearn-color-fitted-level-2);\n",
       "}\n",
       "\n",
       "/* Estimator-specific style */\n",
       "\n",
       "/* Colorize estimator box */\n",
       "#sk-container-id-1 div.sk-estimator input.sk-toggleable__control:checked~label.sk-toggleable__label {\n",
       "  /* unfitted */\n",
       "  background-color: var(--sklearn-color-unfitted-level-2);\n",
       "}\n",
       "\n",
       "#sk-container-id-1 div.sk-estimator.fitted input.sk-toggleable__control:checked~label.sk-toggleable__label {\n",
       "  /* fitted */\n",
       "  background-color: var(--sklearn-color-fitted-level-2);\n",
       "}\n",
       "\n",
       "#sk-container-id-1 div.sk-label label.sk-toggleable__label,\n",
       "#sk-container-id-1 div.sk-label label {\n",
       "  /* The background is the default theme color */\n",
       "  color: var(--sklearn-color-text-on-default-background);\n",
       "}\n",
       "\n",
       "/* On hover, darken the color of the background */\n",
       "#sk-container-id-1 div.sk-label:hover label.sk-toggleable__label {\n",
       "  color: var(--sklearn-color-text);\n",
       "  background-color: var(--sklearn-color-unfitted-level-2);\n",
       "}\n",
       "\n",
       "/* Label box, darken color on hover, fitted */\n",
       "#sk-container-id-1 div.sk-label.fitted:hover label.sk-toggleable__label.fitted {\n",
       "  color: var(--sklearn-color-text);\n",
       "  background-color: var(--sklearn-color-fitted-level-2);\n",
       "}\n",
       "\n",
       "/* Estimator label */\n",
       "\n",
       "#sk-container-id-1 div.sk-label label {\n",
       "  font-family: monospace;\n",
       "  font-weight: bold;\n",
       "  display: inline-block;\n",
       "  line-height: 1.2em;\n",
       "}\n",
       "\n",
       "#sk-container-id-1 div.sk-label-container {\n",
       "  text-align: center;\n",
       "}\n",
       "\n",
       "/* Estimator-specific */\n",
       "#sk-container-id-1 div.sk-estimator {\n",
       "  font-family: monospace;\n",
       "  border: 1px dotted var(--sklearn-color-border-box);\n",
       "  border-radius: 0.25em;\n",
       "  box-sizing: border-box;\n",
       "  margin-bottom: 0.5em;\n",
       "  /* unfitted */\n",
       "  background-color: var(--sklearn-color-unfitted-level-0);\n",
       "}\n",
       "\n",
       "#sk-container-id-1 div.sk-estimator.fitted {\n",
       "  /* fitted */\n",
       "  background-color: var(--sklearn-color-fitted-level-0);\n",
       "}\n",
       "\n",
       "/* on hover */\n",
       "#sk-container-id-1 div.sk-estimator:hover {\n",
       "  /* unfitted */\n",
       "  background-color: var(--sklearn-color-unfitted-level-2);\n",
       "}\n",
       "\n",
       "#sk-container-id-1 div.sk-estimator.fitted:hover {\n",
       "  /* fitted */\n",
       "  background-color: var(--sklearn-color-fitted-level-2);\n",
       "}\n",
       "\n",
       "/* Specification for estimator info (e.g. \"i\" and \"?\") */\n",
       "\n",
       "/* Common style for \"i\" and \"?\" */\n",
       "\n",
       ".sk-estimator-doc-link,\n",
       "a:link.sk-estimator-doc-link,\n",
       "a:visited.sk-estimator-doc-link {\n",
       "  float: right;\n",
       "  font-size: smaller;\n",
       "  line-height: 1em;\n",
       "  font-family: monospace;\n",
       "  background-color: var(--sklearn-color-background);\n",
       "  border-radius: 1em;\n",
       "  height: 1em;\n",
       "  width: 1em;\n",
       "  text-decoration: none !important;\n",
       "  margin-left: 1ex;\n",
       "  /* unfitted */\n",
       "  border: var(--sklearn-color-unfitted-level-1) 1pt solid;\n",
       "  color: var(--sklearn-color-unfitted-level-1);\n",
       "}\n",
       "\n",
       ".sk-estimator-doc-link.fitted,\n",
       "a:link.sk-estimator-doc-link.fitted,\n",
       "a:visited.sk-estimator-doc-link.fitted {\n",
       "  /* fitted */\n",
       "  border: var(--sklearn-color-fitted-level-1) 1pt solid;\n",
       "  color: var(--sklearn-color-fitted-level-1);\n",
       "}\n",
       "\n",
       "/* On hover */\n",
       "div.sk-estimator:hover .sk-estimator-doc-link:hover,\n",
       ".sk-estimator-doc-link:hover,\n",
       "div.sk-label-container:hover .sk-estimator-doc-link:hover,\n",
       ".sk-estimator-doc-link:hover {\n",
       "  /* unfitted */\n",
       "  background-color: var(--sklearn-color-unfitted-level-3);\n",
       "  color: var(--sklearn-color-background);\n",
       "  text-decoration: none;\n",
       "}\n",
       "\n",
       "div.sk-estimator.fitted:hover .sk-estimator-doc-link.fitted:hover,\n",
       ".sk-estimator-doc-link.fitted:hover,\n",
       "div.sk-label-container:hover .sk-estimator-doc-link.fitted:hover,\n",
       ".sk-estimator-doc-link.fitted:hover {\n",
       "  /* fitted */\n",
       "  background-color: var(--sklearn-color-fitted-level-3);\n",
       "  color: var(--sklearn-color-background);\n",
       "  text-decoration: none;\n",
       "}\n",
       "\n",
       "/* Span, style for the box shown on hovering the info icon */\n",
       ".sk-estimator-doc-link span {\n",
       "  display: none;\n",
       "  z-index: 9999;\n",
       "  position: relative;\n",
       "  font-weight: normal;\n",
       "  right: .2ex;\n",
       "  padding: .5ex;\n",
       "  margin: .5ex;\n",
       "  width: min-content;\n",
       "  min-width: 20ex;\n",
       "  max-width: 50ex;\n",
       "  color: var(--sklearn-color-text);\n",
       "  box-shadow: 2pt 2pt 4pt #999;\n",
       "  /* unfitted */\n",
       "  background: var(--sklearn-color-unfitted-level-0);\n",
       "  border: .5pt solid var(--sklearn-color-unfitted-level-3);\n",
       "}\n",
       "\n",
       ".sk-estimator-doc-link.fitted span {\n",
       "  /* fitted */\n",
       "  background: var(--sklearn-color-fitted-level-0);\n",
       "  border: var(--sklearn-color-fitted-level-3);\n",
       "}\n",
       "\n",
       ".sk-estimator-doc-link:hover span {\n",
       "  display: block;\n",
       "}\n",
       "\n",
       "/* \"?\"-specific style due to the `<a>` HTML tag */\n",
       "\n",
       "#sk-container-id-1 a.estimator_doc_link {\n",
       "  float: right;\n",
       "  font-size: 1rem;\n",
       "  line-height: 1em;\n",
       "  font-family: monospace;\n",
       "  background-color: var(--sklearn-color-background);\n",
       "  border-radius: 1rem;\n",
       "  height: 1rem;\n",
       "  width: 1rem;\n",
       "  text-decoration: none;\n",
       "  /* unfitted */\n",
       "  color: var(--sklearn-color-unfitted-level-1);\n",
       "  border: var(--sklearn-color-unfitted-level-1) 1pt solid;\n",
       "}\n",
       "\n",
       "#sk-container-id-1 a.estimator_doc_link.fitted {\n",
       "  /* fitted */\n",
       "  border: var(--sklearn-color-fitted-level-1) 1pt solid;\n",
       "  color: var(--sklearn-color-fitted-level-1);\n",
       "}\n",
       "\n",
       "/* On hover */\n",
       "#sk-container-id-1 a.estimator_doc_link:hover {\n",
       "  /* unfitted */\n",
       "  background-color: var(--sklearn-color-unfitted-level-3);\n",
       "  color: var(--sklearn-color-background);\n",
       "  text-decoration: none;\n",
       "}\n",
       "\n",
       "#sk-container-id-1 a.estimator_doc_link.fitted:hover {\n",
       "  /* fitted */\n",
       "  background-color: var(--sklearn-color-fitted-level-3);\n",
       "}\n",
       "</style><div id=\"sk-container-id-1\" class=\"sk-top-container\"><div class=\"sk-text-repr-fallback\"><pre>StandardScaler()</pre><b>In a Jupyter environment, please rerun this cell to show the HTML representation or trust the notebook. <br />On GitHub, the HTML representation is unable to render, please try loading this page with nbviewer.org.</b></div><div class=\"sk-container\" hidden><div class=\"sk-item\"><div class=\"sk-estimator fitted sk-toggleable\"><input class=\"sk-toggleable__control sk-hidden--visually\" id=\"sk-estimator-id-1\" type=\"checkbox\" checked><label for=\"sk-estimator-id-1\" class=\"sk-toggleable__label fitted sk-toggleable__label-arrow fitted\">&nbsp;&nbsp;StandardScaler<a class=\"sk-estimator-doc-link fitted\" rel=\"noreferrer\" target=\"_blank\" href=\"https://scikit-learn.org/1.5/modules/generated/sklearn.preprocessing.StandardScaler.html\">?<span>Documentation for StandardScaler</span></a><span class=\"sk-estimator-doc-link fitted\">i<span>Fitted</span></span></label><div class=\"sk-toggleable__content fitted\"><pre>StandardScaler()</pre></div> </div></div></div></div>"
      ],
      "text/plain": [
       "StandardScaler()"
      ]
     },
     "execution_count": 6,
     "metadata": {},
     "output_type": "execute_result"
    }
   ],
   "source": [
    "scaler.fit(train1)"
   ]
  },
  {
   "cell_type": "code",
   "execution_count": 7,
   "metadata": {},
   "outputs": [],
   "source": [
    "train_scaled = pd.DataFrame(scaler.transform(train1), columns=train1.columns)"
   ]
  },
  {
   "cell_type": "code",
   "execution_count": 8,
   "metadata": {},
   "outputs": [
    {
     "data": {
      "text/plain": [
       "array([[<Axes: title={'center': 'V2'}>, <Axes: title={'center': 'V23'}>],\n",
       "       [<Axes: title={'center': 'V44'}>, <Axes: title={'center': 'V65'}>]],\n",
       "      dtype=object)"
      ]
     },
     "execution_count": 8,
     "metadata": {},
     "output_type": "execute_result"
    },
    {
     "data": {
      "image/png": "[encoded data removed]",
      "text/plain": [
       "<Figure size 640x480 with 4 Axes>"
      ]
     },
     "metadata": {},
     "output_type": "display_data"
    }
   ],
   "source": [
    "train_scaled.hist()"
   ]
  },
  {
   "cell_type": "code",
   "execution_count": 9,
   "metadata": {},
   "outputs": [
    {
     "ename": "ValueError",
     "evalue": "Mime type rendering requires nbformat>=4.2.0 but it is not installed",
     "output_type": "error",
     "traceback": [
      "\u001b[0;31m---------------------------------------------------------------------------\u001b[0m",
      "\u001b[0;31mValueError\u001b[0m                                Traceback (most recent call last)",
      "File \u001b[0;32m~/miniconda3/envs/sop/lib/python3.10/site-packages/IPython/core/formatters.py:925\u001b[0m, in \u001b[0;36mIPythonDisplayFormatter.__call__\u001b[0;34m(self, obj)\u001b[0m\n\u001b[1;32m    923\u001b[0m method \u001b[38;5;241m=\u001b[39m get_real_method(obj, \u001b[38;5;28mself\u001b[39m\u001b[38;5;241m.\u001b[39mprint_method)\n\u001b[1;32m    924\u001b[0m \u001b[38;5;28;01mif\u001b[39;00m method \u001b[38;5;129;01mis\u001b[39;00m \u001b[38;5;129;01mnot\u001b[39;00m \u001b[38;5;28;01mNone\u001b[39;00m:\n\u001b[0;32m--> 925\u001b[0m     \u001b[43mmethod\u001b[49m\u001b[43m(\u001b[49m\u001b[43m)\u001b[49m\n\u001b[1;32m    926\u001b[0m     \u001b[38;5;28;01mreturn\u001b[39;00m \u001b[38;5;28;01mTrue\u001b[39;00m\n",
      "File \u001b[0;32m~/miniconda3/envs/sop/lib/python3.10/site-packages/plotly/basedatatypes.py:832\u001b[0m, in \u001b[0;36mBaseFigure._ipython_display_\u001b[0;34m(self)\u001b[0m\n\u001b[1;32m    829\u001b[0m \u001b[38;5;28;01mimport\u001b[39;00m \u001b[38;5;21;01mplotly\u001b[39;00m\u001b[38;5;21;01m.\u001b[39;00m\u001b[38;5;21;01mio\u001b[39;00m \u001b[38;5;28;01mas\u001b[39;00m \u001b[38;5;21;01mpio\u001b[39;00m\n\u001b[1;32m    831\u001b[0m \u001b[38;5;28;01mif\u001b[39;00m pio\u001b[38;5;241m.\u001b[39mrenderers\u001b[38;5;241m.\u001b[39mrender_on_display \u001b[38;5;129;01mand\u001b[39;00m pio\u001b[38;5;241m.\u001b[39mrenderers\u001b[38;5;241m.\u001b[39mdefault:\n\u001b[0;32m--> 832\u001b[0m     \u001b[43mpio\u001b[49m\u001b[38;5;241;43m.\u001b[39;49m\u001b[43mshow\u001b[49m\u001b[43m(\u001b[49m\u001b[38;5;28;43mself\u001b[39;49m\u001b[43m)\u001b[49m\n\u001b[1;32m    833\u001b[0m \u001b[38;5;28;01melse\u001b[39;00m:\n\u001b[1;32m    834\u001b[0m     \u001b[38;5;28mprint\u001b[39m(\u001b[38;5;28mrepr\u001b[39m(\u001b[38;5;28mself\u001b[39m))\n",
      "File \u001b[0;32m~/miniconda3/envs/sop/lib/python3.10/site-packages/plotly/io/_renderers.py:394\u001b[0m, in \u001b[0;36mshow\u001b[0;34m(fig, renderer, validate, **kwargs)\u001b[0m\n\u001b[1;32m    389\u001b[0m         \u001b[38;5;28;01mraise\u001b[39;00m \u001b[38;5;167;01mValueError\u001b[39;00m(\n\u001b[1;32m    390\u001b[0m             \u001b[38;5;124m\"\u001b[39m\u001b[38;5;124mMime type rendering requires ipython but it is not installed\u001b[39m\u001b[38;5;124m\"\u001b[39m\n\u001b[1;32m    391\u001b[0m         )\n\u001b[1;32m    393\u001b[0m     \u001b[38;5;28;01mif\u001b[39;00m \u001b[38;5;129;01mnot\u001b[39;00m nbformat \u001b[38;5;129;01mor\u001b[39;00m Version(nbformat\u001b[38;5;241m.\u001b[39m__version__) \u001b[38;5;241m<\u001b[39m Version(\u001b[38;5;124m\"\u001b[39m\u001b[38;5;124m4.2.0\u001b[39m\u001b[38;5;124m\"\u001b[39m):\n\u001b[0;32m--> 394\u001b[0m         \u001b[38;5;28;01mraise\u001b[39;00m \u001b[38;5;167;01mValueError\u001b[39;00m(\n\u001b[1;32m    395\u001b[0m             \u001b[38;5;124m\"\u001b[39m\u001b[38;5;124mMime type rendering requires nbformat>=4.2.0 but it is not installed\u001b[39m\u001b[38;5;124m\"\u001b[39m\n\u001b[1;32m    396\u001b[0m         )\n\u001b[1;32m    398\u001b[0m     ipython_display\u001b[38;5;241m.\u001b[39mdisplay(bundle, raw\u001b[38;5;241m=\u001b[39m\u001b[38;5;28;01mTrue\u001b[39;00m)\n\u001b[1;32m    400\u001b[0m \u001b[38;5;66;03m# external renderers\u001b[39;00m\n",
      "\u001b[0;31mValueError\u001b[0m: Mime type rendering requires nbformat>=4.2.0 but it is not installed"
     ]
    },
    {
     "data": {
      "application/vnd.plotly.v1+json": {
       "config": {
        "plotlyServerURL": "https://plot.ly"
       },
       "data": [
        {
         "alignmentgroup": "True",
         "box": {
          "visible": true
         },
         "customdata": [
          [
           0.810172839506173,
           0.0310123456790123,
           0.0401975308641975
          ],
          [
           0.896307692307692,
           0.0076923076923076,
           0.0209230769230769
          ],
          [
           0.970152761457109,
           0.0102702702702703,
           0.0140853897375637
          ],
          [
           0.980490620490621,
           0.0119480519480519,
           0.0074747474747474
          ],
          [
           0.906647727272727,
           0.0127272727272727,
           0.080625
          ],
          [
           0.935344827586207,
           0.0423275862068965,
           0.0223275862068965
          ],
          [
           0.989795918367347,
           0.0060714285714285,
           0.0041326530612244
          ],
          [
           0.9575,
           0.0130555555555556,
           0.0147222222222222
          ],
          [
           0.815833333333333,
           0.0105555555555556,
           0.0172222222222222
          ],
          [
           0.903125,
           0.0220833333333333,
           0.024375
          ],
          [
           0.955555555555556,
           0.0128395061728395,
           0.0158024691358025
          ],
          [
           0.959285714285714,
           0.0145714285714286,
           0.0111428571428571
          ],
          [
           0.9368,
           0.0091,
           0.0103
          ],
          [
           0.922638888888889,
           0.0120833333333333,
           0.0176388888888889
          ],
          [
           0.961259259259259,
           0.0156296296296296,
           0.0114814814814815
          ],
          [
           0.731570247933884,
           0.0102479338842975,
           0.0581818181818182
          ],
          [
           0.959134615384615,
           0.0096153846153846,
           0.015
          ],
          [
           0.816545454545454,
           0.018,
           0.0509090909090909
          ],
          [
           0.9736,
           0.01,
           0.0164
          ],
          [
           0.965069444444444,
           0.0073611111111111,
           0.0259027777777778
          ],
          [
           0.2464,
           0.0008,
           0.0008
          ],
          [
           0.836875,
           0.01,
           0.004375
          ],
          [
           0.96,
           0.0111111111111111,
           0
          ],
          [
           0.729428571428572,
           0.008,
           0.0051428571428571
          ],
          [
           0.798222222222222,
           0.0235555555555556,
           0.0711111111111111
          ],
          [
           0.917333333333333,
           0.0826666666666667,
           0
          ],
          [
           0.481618437900128,
           0.497843790012804,
           0.0205377720870679
          ],
          [
           0.950534759358289,
           0.0101604278074866,
           0.0393048128342246
          ],
          [
           0.8339,
           0.0242,
           0.1413
          ],
          [
           0.909533834586466,
           0.0269473684210526,
           0.0628571428571429
          ],
          [
           0.984214285714286,
           0.0110357142857143,
           0.0046964285714285
          ],
          [
           0.732397660818713,
           0.226003898635478,
           0.041598440545809
          ],
          [
           0.944,
           0.0269,
           0.0291
          ],
          [
           0.815459459459459,
           0.0116756756756757,
           0
          ],
          [
           0.995111111111111,
           0.0028888888888888,
           0.002
          ],
          [
           0.99325,
           0.00175,
           0.001
          ],
          [
           0.983189935064935,
           0.0074756493506493,
           0.0074675324675324
          ],
          [
           0.914521739130435,
           0.0054782608695652,
           0.0150434782608696
          ],
          [
           0.721066666666667,
           0.0149333333333333,
           0.072
          ],
          [
           0.935644444444445,
           0.0120888888888889,
           0.0245333333333333
          ],
          [
           0.94,
           0.0047619047619047,
           0.0073809523809523
          ],
          [
           0.917272727272727,
           0.0054545454545454,
           0.0034545454545454
          ],
          [
           0.777037037037037,
           0.0039506172839506,
           0.0091358024691358
          ],
          [
           0.790612244897959,
           0.0187755102040816,
           0.0028571428571428
          ],
          [
           0.826574074074074,
           0.0056481481481481,
           0.0012962962962963
          ],
          [
           0.937435897435897,
           0.0141025641025641,
           0.0384615384615385
          ],
          [
           0.854628571428571,
           0.0138666666666667,
           0.122209523809524
          ],
          [
           0.9202,
           0.0412428571428571,
           0.0370857142857143
          ],
          [
           0.986111111111111,
           0.0058333333333333,
           0.0029166666666666
          ],
          [
           0.658653846153846,
           0.326923076923077,
           0.0144230769230769
          ],
          [
           0.96288,
           0.01488,
           0.02048
          ],
          [
           0.9325,
           0.0086538461538461,
           0.0203846153846154
          ],
          [
           0.95032967032967,
           0.0243956043956044,
           0.0123076923076923
          ],
          [
           0.947520661157025,
           0.0121487603305785,
           0.0322314049586777
          ]
         ],
         "hovertemplate": "Class=%{x}<br>V2=%{y}<br>V23=%{customdata[0]}<br>V44=%{customdata[1]}<br>V65=%{customdata[2]}<extra></extra>",
         "legendgroup": "0",
         "marker": {
          "color": "#636efa"
         },
         "name": "0",
         "offsetgroup": "0",
         "orientation": "v",
         "points": "all",
         "scalegroup": "True",
         "showlegend": true,
         "type": "violin",
         "x": [
          0,
          0,
          0,
          0,
          0,
          0,
          0,
          0,
          0,
          0,
          0,
          0,
          0,
          0,
          0,
          0,
          0,
          0,
          0,
          0,
          0,
          0,
          0,
          0,
          0,
          0,
          0,
          0,
          0,
          0,
          0,
          0,
          0,
          0,
          0,
          0,
          0,
          0,
          0,
          0,
          0,
          0,
          0,
          0,
          0,
          0,
          0,
          0,
          0,
          0,
          0,
          0,
          0,
          0
         ],
         "x0": " ",
         "xaxis": "x",
         "y": [
          0.118617283950617,
          0.0750769230769231,
          0.0054915785350568,
          0.0000865800865800866,
          0,
          0,
          0,
          0.0147222222222222,
          0.156388888888889,
          0.0504166666666667,
          0.0158024691358025,
          0.015,
          0.0438,
          0.0476388888888889,
          0.0116296296296296,
          0.2,
          0.01625,
          0.114545454545455,
          0,
          0.0016666666666666,
          0.752,
          0.14875,
          0.0288888888888889,
          0.257428571428571,
          0.107111111111111,
          0,
          0,
          0,
          0.0006,
          0.0006616541353383,
          0.0000535714285714286,
          0,
          0,
          0.172864864864865,
          0,
          0.004,
          0.0018668831168831,
          0.0649565217391304,
          0.192,
          0.0277333333333333,
          0.0478571428571429,
          0.0738181818181818,
          0.209876543209877,
          0.187755102040816,
          0.166481481481481,
          0.01,
          0.009295238095238,
          0.0014714285714285,
          0.0051388888888888,
          0,
          0.00176,
          0.0384615384615385,
          0.012967032967033,
          0.008099173553719
         ],
         "y0": " ",
         "yaxis": "y"
        },
        {
         "alignmentgroup": "True",
         "box": {
          "visible": true
         },
         "customdata": [
          [
           0.260622222222222,
           0.0081777777777777,
           0.0197333333333333
          ],
          [
           0.322060353798127,
           0.0117065556711759,
           0.0052029136316337
          ],
          [
           0.115420129270545,
           0.0006155740227762,
           0
          ],
          [
           0.243757431629013,
           0.0014863258026159,
           0
          ],
          [
           0.245290745290745,
           0.0026617526617526,
           0
          ],
          [
           0.489182692307692,
           0.0009615384615384,
           0
          ],
          [
           0.315934065934066,
           0.0023402523402523,
           0
          ],
          [
           0.1748,
           0.0004,
           0
          ],
          [
           0.211020408163265,
           0.0044897959183673,
           0.0018367346938775
          ],
          [
           0.69716049382716,
           0.0050617283950617,
           0.0034567901234567
          ],
          [
           0.984453589391861,
           0.0051821368693796,
           0.0001524157902758
          ],
          [
           0.119285714285714,
           0.0046428571428571,
           0.0016071428571428
          ],
          [
           0.346871794871795,
           0.0043076923076923,
           0
          ],
          [
           0.983247863247863,
           0.0068376068376068,
           0.0075213675213675
          ],
          [
           0.366666666666667,
           0.01,
           0.0133333333333333
          ],
          [
           0.135185185185185,
           0.0046296296296296,
           0
          ],
          [
           0.618585858585859,
           0,
           0
          ],
          [
           0.400714285714286,
           0.0062857142857142,
           0.001
          ],
          [
           0.286805555555556,
           0.0005555555555555,
           0
          ],
          [
           0.41575,
           0.00175,
           0
          ],
          [
           0.0942857142857143,
           0.0017142857142857,
           0
          ],
          [
           0.394,
           0.0008,
           0
          ],
          [
           0.0733333333333333,
           0.0019444444444444,
           0
          ],
          [
           0.0738181818181818,
           0.0032727272727272,
           0.0003636363636363
          ],
          [
           0.7892,
           0.0012,
           0
          ],
          [
           0.750952380952381,
           0.0078571428571428,
           0.0016666666666666
          ]
         ],
         "hovertemplate": "Class=%{x}<br>V2=%{y}<br>V23=%{customdata[0]}<br>V44=%{customdata[1]}<br>V65=%{customdata[2]}<extra></extra>",
         "legendgroup": "1",
         "marker": {
          "color": "#EF553B"
         },
         "name": "1",
         "offsetgroup": "1",
         "orientation": "v",
         "points": "all",
         "scalegroup": "True",
         "showlegend": true,
         "type": "violin",
         "x": [
          1,
          1,
          1,
          1,
          1,
          1,
          1,
          1,
          1,
          1,
          1,
          1,
          1,
          1,
          1,
          1,
          1,
          1,
          1,
          1,
          1,
          1,
          1,
          1,
          1,
          1
         ],
         "x0": " ",
         "xaxis": "x",
         "y": [
          0.711466666666667,
          0.661030176899064,
          0.883964296706679,
          0.754756242568371,
          0.752047502047502,
          0.509855769230769,
          0.681725681725682,
          0.8248,
          0.78265306122449,
          0.294320987654321,
          0.0102118579484835,
          0.874464285714286,
          0.648820512820513,
          0.0023931623931623,
          0.61,
          0.860185185185185,
          0.381414141414141,
          0.592,
          0.712638888888889,
          0.5825,
          0.904,
          0.6052,
          0.924722222222222,
          0.922545454545454,
          0.2096,
          0.23952380952381
         ],
         "y0": " ",
         "yaxis": "y"
        }
       ],
       "layout": {
        "legend": {
         "title": {
          "text": "Class"
         },
         "tracegroupgap": 0
        },
        "margin": {
         "t": 60
        },
        "template": {
         "data": {
          "bar": [
           {
            "error_x": {
             "color": "#2a3f5f"
            },
            "error_y": {
             "color": "#2a3f5f"
            },
            "marker": {
             "line": {
              "color": "#E5ECF6",
              "width": 0.5
             },
             "pattern": {
              "fillmode": "overlay",
              "size": 10,
              "solidity": 0.2
             }
            },
            "type": "bar"
           }
          ],
          "barpolar": [
           {
            "marker": {
             "line": {
              "color": "#E5ECF6",
              "width": 0.5
             },
             "pattern": {
              "fillmode": "overlay",
              "size": 10,
              "solidity": 0.2
             }
            },
            "type": "barpolar"
           }
          ],
          "carpet": [
           {
            "aaxis": {
             "endlinecolor": "#2a3f5f",
             "gridcolor": "white",
             "linecolor": "white",
             "minorgridcolor": "white",
             "startlinecolor": "#2a3f5f"
            },
            "baxis": {
             "endlinecolor": "#2a3f5f",
             "gridcolor": "white",
             "linecolor": "white",
             "minorgridcolor": "white",
             "startlinecolor": "#2a3f5f"
            },
            "type": "carpet"
           }
          ],
          "choropleth": [
           {
            "colorbar": {
             "outlinewidth": 0,
             "ticks": ""
            },
            "type": "choropleth"
           }
          ],
          "contour": [
           {
            "colorbar": {
             "outlinewidth": 0,
             "ticks": ""
            },
            "colorscale": [
             [
              0,
              "#0d0887"
             ],
             [
              0.1111111111111111,
              "#46039f"
             ],
             [
              0.2222222222222222,
              "#7201a8"
             ],
             [
              0.3333333333333333,
              "#9c179e"
             ],
             [
              0.4444444444444444,
              "#bd3786"
             ],
             [
              0.5555555555555556,
              "#d8576b"
             ],
             [
              0.6666666666666666,
              "#ed7953"
             ],
             [
              0.7777777777777778,
              "#fb9f3a"
             ],
             [
              0.8888888888888888,
              "#fdca26"
             ],
             [
              1,
              "#f0f921"
             ]
            ],
            "type": "contour"
           }
          ],
          "contourcarpet": [
           {
            "colorbar": {
             "outlinewidth": 0,
             "ticks": ""
            },
            "type": "contourcarpet"
           }
          ],
          "heatmap": [
           {
            "colorbar": {
             "outlinewidth": 0,
             "ticks": ""
            },
            "colorscale": [
             [
              0,
              "#0d0887"
             ],
             [
              0.1111111111111111,
              "#46039f"
             ],
             [
              0.2222222222222222,
              "#7201a8"
             ],
             [
              0.3333333333333333,
              "#9c179e"
             ],
             [
              0.4444444444444444,
              "#bd3786"
             ],
             [
              0.5555555555555556,
              "#d8576b"
             ],
             [
              0.6666666666666666,
              "#ed7953"
             ],
             [
              0.7777777777777778,
              "#fb9f3a"
             ],
             [
              0.8888888888888888,
              "#fdca26"
             ],
             [
              1,
              "#f0f921"
             ]
            ],
            "type": "heatmap"
           }
          ],
          "heatmapgl": [
           {
            "colorbar": {
             "outlinewidth": 0,
             "ticks": ""
            },
            "colorscale": [
             [
              0,
              "#0d0887"
             ],
             [
              0.1111111111111111,
              "#46039f"
             ],
             [
              0.2222222222222222,
              "#7201a8"
             ],
             [
              0.3333333333333333,
              "#9c179e"
             ],
             [
              0.4444444444444444,
              "#bd3786"
             ],
             [
              0.5555555555555556,
              "#d8576b"
             ],
             [
              0.6666666666666666,
              "#ed7953"
             ],
             [
              0.7777777777777778,
              "#fb9f3a"
             ],
             [
              0.8888888888888888,
              "#fdca26"
             ],
             [
              1,
              "#f0f921"
             ]
            ],
            "type": "heatmapgl"
           }
          ],
          "histogram": [
           {
            "marker": {
             "pattern": {
              "fillmode": "overlay",
              "size": 10,
              "solidity": 0.2
             }
            },
            "type": "histogram"
           }
          ],
          "histogram2d": [
           {
            "colorbar": {
             "outlinewidth": 0,
             "ticks": ""
            },
            "colorscale": [
             [
              0,
              "#0d0887"
             ],
             [
              0.1111111111111111,
              "#46039f"
             ],
             [
              0.2222222222222222,
              "#7201a8"
             ],
             [
              0.3333333333333333,
              "#9c179e"
             ],
             [
              0.4444444444444444,
              "#bd3786"
             ],
             [
              0.5555555555555556,
              "#d8576b"
             ],
             [
              0.6666666666666666,
              "#ed7953"
             ],
             [
              0.7777777777777778,
              "#fb9f3a"
             ],
             [
              0.8888888888888888,
              "#fdca26"
             ],
             [
              1,
              "#f0f921"
             ]
            ],
            "type": "histogram2d"
           }
          ],
          "histogram2dcontour": [
           {
            "colorbar": {
             "outlinewidth": 0,
             "ticks": ""
            },
            "colorscale": [
             [
              0,
              "#0d0887"
             ],
             [
              0.1111111111111111,
              "#46039f"
             ],
             [
              0.2222222222222222,
              "#7201a8"
             ],
             [
              0.3333333333333333,
              "#9c179e"
             ],
             [
              0.4444444444444444,
              "#bd3786"
             ],
             [
              0.5555555555555556,
              "#d8576b"
             ],
             [
              0.6666666666666666,
              "#ed7953"
             ],
             [
              0.7777777777777778,
              "#fb9f3a"
             ],
             [
              0.8888888888888888,
              "#fdca26"
             ],
             [
              1,
              "#f0f921"
             ]
            ],
            "type": "histogram2dcontour"
           }
          ],
          "mesh3d": [
           {
            "colorbar": {
             "outlinewidth": 0,
             "ticks": ""
            },
            "type": "mesh3d"
           }
          ],
          "parcoords": [
           {
            "line": {
             "colorbar": {
              "outlinewidth": 0,
              "ticks": ""
             }
            },
            "type": "parcoords"
           }
          ],
          "pie": [
           {
            "automargin": true,
            "type": "pie"
           }
          ],
          "scatter": [
           {
            "fillpattern": {
             "fillmode": "overlay",
             "size": 10,
             "solidity": 0.2
            },
            "type": "scatter"
           }
          ],
          "scatter3d": [
           {
            "line": {
             "colorbar": {
              "outlinewidth": 0,
              "ticks": ""
             }
            },
            "marker": {
             "colorbar": {
              "outlinewidth": 0,
              "ticks": ""
             }
            },
            "type": "scatter3d"
           }
          ],
          "scattercarpet": [
           {
            "marker": {
             "colorbar": {
              "outlinewidth": 0,
              "ticks": ""
             }
            },
            "type": "scattercarpet"
           }
          ],
          "scattergeo": [
           {
            "marker": {
             "colorbar": {
              "outlinewidth": 0,
              "ticks": ""
             }
            },
            "type": "scattergeo"
           }
          ],
          "scattergl": [
           {
            "marker": {
             "colorbar": {
              "outlinewidth": 0,
              "ticks": ""
             }
            },
            "type": "scattergl"
           }
          ],
          "scattermapbox": [
           {
            "marker": {
             "colorbar": {
              "outlinewidth": 0,
              "ticks": ""
             }
            },
            "type": "scattermapbox"
           }
          ],
          "scatterpolar": [
           {
            "marker": {
             "colorbar": {
              "outlinewidth": 0,
              "ticks": ""
             }
            },
            "type": "scatterpolar"
           }
          ],
          "scatterpolargl": [
           {
            "marker": {
             "colorbar": {
              "outlinewidth": 0,
              "ticks": ""
             }
            },
            "type": "scatterpolargl"
           }
          ],
          "scatterternary": [
           {
            "marker": {
             "colorbar": {
              "outlinewidth": 0,
              "ticks": ""
             }
            },
            "type": "scatterternary"
           }
          ],
          "surface": [
           {
            "colorbar": {
             "outlinewidth": 0,
             "ticks": ""
            },
            "colorscale": [
             [
              0,
              "#0d0887"
             ],
             [
              0.1111111111111111,
              "#46039f"
             ],
             [
              0.2222222222222222,
              "#7201a8"
             ],
             [
              0.3333333333333333,
              "#9c179e"
             ],
             [
              0.4444444444444444,
              "#bd3786"
             ],
             [
              0.5555555555555556,
              "#d8576b"
             ],
             [
              0.6666666666666666,
              "#ed7953"
             ],
             [
              0.7777777777777778,
              "#fb9f3a"
             ],
             [
              0.8888888888888888,
              "#fdca26"
             ],
             [
              1,
              "#f0f921"
             ]
            ],
            "type": "surface"
           }
          ],
          "table": [
           {
            "cells": {
             "fill": {
              "color": "#EBF0F8"
             },
             "line": {
              "color": "white"
             }
            },
            "header": {
             "fill": {
              "color": "#C8D4E3"
             },
             "line": {
              "color": "white"
             }
            },
            "type": "table"
           }
          ]
         },
         "layout": {
          "annotationdefaults": {
           "arrowcolor": "#2a3f5f",
           "arrowhead": 0,
           "arrowwidth": 1
          },
          "autotypenumbers": "strict",
          "coloraxis": {
           "colorbar": {
            "outlinewidth": 0,
            "ticks": ""
           }
          },
          "colorscale": {
           "diverging": [
            [
             0,
             "#8e0152"
            ],
            [
             0.1,
             "#c51b7d"
            ],
            [
             0.2,
             "#de77ae"
            ],
            [
             0.3,
             "#f1b6da"
            ],
            [
             0.4,
             "#fde0ef"
            ],
            [
             0.5,
             "#f7f7f7"
            ],
            [
             0.6,
             "#e6f5d0"
            ],
            [
             0.7,
             "#b8e186"
            ],
            [
             0.8,
             "#7fbc41"
            ],
            [
             0.9,
             "#4d9221"
            ],
            [
             1,
             "#276419"
            ]
           ],
           "sequential": [
            [
             0,
             "#0d0887"
            ],
            [
             0.1111111111111111,
             "#46039f"
            ],
            [
             0.2222222222222222,
             "#7201a8"
            ],
            [
             0.3333333333333333,
             "#9c179e"
            ],
            [
             0.4444444444444444,
             "#bd3786"
            ],
            [
             0.5555555555555556,
             "#d8576b"
            ],
            [
             0.6666666666666666,
             "#ed7953"
            ],
            [
             0.7777777777777778,
             "#fb9f3a"
            ],
            [
             0.8888888888888888,
             "#fdca26"
            ],
            [
             1,
             "#f0f921"
            ]
           ],
           "sequentialminus": [
            [
             0,
             "#0d0887"
            ],
            [
             0.1111111111111111,
             "#46039f"
            ],
            [
             0.2222222222222222,
             "#7201a8"
            ],
            [
             0.3333333333333333,
             "#9c179e"
            ],
            [
             0.4444444444444444,
             "#bd3786"
            ],
            [
             0.5555555555555556,
             "#d8576b"
            ],
            [
             0.6666666666666666,
             "#ed7953"
            ],
            [
             0.7777777777777778,
             "#fb9f3a"
            ],
            [
             0.8888888888888888,
             "#fdca26"
            ],
            [
             1,
             "#f0f921"
            ]
           ]
          },
          "colorway": [
           "#636efa",
           "#EF553B",
           "#00cc96",
           "#ab63fa",
           "#FFA15A",
           "#19d3f3",
           "#FF6692",
           "#B6E880",
           "#FF97FF",
           "#FECB52"
          ],
          "font": {
           "color": "#2a3f5f"
          },
          "geo": {
           "bgcolor": "white",
           "lakecolor": "white",
           "landcolor": "#E5ECF6",
           "showlakes": true,
           "showland": true,
           "subunitcolor": "white"
          },
          "hoverlabel": {
           "align": "left"
          },
          "hovermode": "closest",
          "mapbox": {
           "style": "light"
          },
          "paper_bgcolor": "white",
          "plot_bgcolor": "#E5ECF6",
          "polar": {
           "angularaxis": {
            "gridcolor": "white",
            "linecolor": "white",
            "ticks": ""
           },
           "bgcolor": "#E5ECF6",
           "radialaxis": {
            "gridcolor": "white",
            "linecolor": "white",
            "ticks": ""
           }
          },
          "scene": {
           "xaxis": {
            "backgroundcolor": "#E5ECF6",
            "gridcolor": "white",
            "gridwidth": 2,
            "linecolor": "white",
            "showbackground": true,
            "ticks": "",
            "zerolinecolor": "white"
           },
           "yaxis": {
            "backgroundcolor": "#E5ECF6",
            "gridcolor": "white",
            "gridwidth": 2,
            "linecolor": "white",
            "showbackground": true,
            "ticks": "",
            "zerolinecolor": "white"
           },
           "zaxis": {
            "backgroundcolor": "#E5ECF6",
            "gridcolor": "white",
            "gridwidth": 2,
            "linecolor": "white",
            "showbackground": true,
            "ticks": "",
            "zerolinecolor": "white"
           }
          },
          "shapedefaults": {
           "line": {
            "color": "#2a3f5f"
           }
          },
          "ternary": {
           "aaxis": {
            "gridcolor": "white",
            "linecolor": "white",
            "ticks": ""
           },
           "baxis": {
            "gridcolor": "white",
            "linecolor": "white",
            "ticks": ""
           },
           "bgcolor": "#E5ECF6",
           "caxis": {
            "gridcolor": "white",
            "linecolor": "white",
            "ticks": ""
           }
          },
          "title": {
           "x": 0.05
          },
          "xaxis": {
           "automargin": true,
           "gridcolor": "white",
           "linecolor": "white",
           "ticks": "",
           "title": {
            "standoff": 15
           },
           "zerolinecolor": "white",
           "zerolinewidth": 2
          },
          "yaxis": {
           "automargin": true,
           "gridcolor": "white",
           "linecolor": "white",
           "ticks": "",
           "title": {
            "standoff": 15
           },
           "zerolinecolor": "white",
           "zerolinewidth": 2
          }
         }
        },
        "violinmode": "overlay",
        "xaxis": {
         "anchor": "y",
         "categoryarray": [
          0,
          1
         ],
         "categoryorder": "array",
         "domain": [
          0,
          1
         ],
         "title": {
          "text": "Class"
         }
        },
        "yaxis": {
         "anchor": "x",
         "domain": [
          0,
          1
         ],
         "title": {
          "text": "V2"
         }
        }
       }
      },
      "text/html": [
       "<div>                        <script type=\"text/javascript\">window.PlotlyConfig = {MathJaxConfig: 'local'};</script>\n",
       "        <script charset=\"utf-8\" src=\"https://cdn.plot.ly/plotly-2.35.0.min.js\"></script>                <div id=\"7c5d79a0-38c5-4233-8667-0844bad31ea0\" class=\"plotly-graph-div\" style=\"height:100%; width:100%;\"></div>            <script type=\"text/javascript\">                                    window.PLOTLYENV=window.PLOTLYENV || {};                                    if (document.getElementById(\"7c5d79a0-38c5-4233-8667-0844bad31ea0\")) {                    Plotly.newPlot(                        \"7c5d79a0-38c5-4233-8667-0844bad31ea0\",                        [{\"alignmentgroup\":\"True\",\"box\":{\"visible\":true},\"customdata\":[[0.810172839506173,0.0310123456790123,0.0401975308641975],[0.896307692307692,0.0076923076923076,0.0209230769230769],[0.970152761457109,0.0102702702702703,0.0140853897375637],[0.980490620490621,0.0119480519480519,0.0074747474747474],[0.906647727272727,0.0127272727272727,0.080625],[0.935344827586207,0.0423275862068965,0.0223275862068965],[0.989795918367347,0.0060714285714285,0.0041326530612244],[0.9575,0.0130555555555556,0.0147222222222222],[0.815833333333333,0.0105555555555556,0.0172222222222222],[0.903125,0.0220833333333333,0.024375],[0.955555555555556,0.0128395061728395,0.0158024691358025],[0.959285714285714,0.0145714285714286,0.0111428571428571],[0.9368,0.0091,0.0103],[0.922638888888889,0.0120833333333333,0.0176388888888889],[0.961259259259259,0.0156296296296296,0.0114814814814815],[0.731570247933884,0.0102479338842975,0.0581818181818182],[0.959134615384615,0.0096153846153846,0.015],[0.816545454545454,0.018,0.0509090909090909],[0.9736,0.01,0.0164],[0.965069444444444,0.0073611111111111,0.0259027777777778],[0.2464,0.0008,0.0008],[0.836875,0.01,0.004375],[0.96,0.0111111111111111,0.0],[0.729428571428572,0.008,0.0051428571428571],[0.798222222222222,0.0235555555555556,0.0711111111111111],[0.917333333333333,0.0826666666666667,0.0],[0.481618437900128,0.497843790012804,0.0205377720870679],[0.950534759358289,0.0101604278074866,0.0393048128342246],[0.8339,0.0242,0.1413],[0.909533834586466,0.0269473684210526,0.0628571428571429],[0.984214285714286,0.0110357142857143,0.0046964285714285],[0.732397660818713,0.226003898635478,0.041598440545809],[0.944,0.0269,0.0291],[0.815459459459459,0.0116756756756757,0.0],[0.995111111111111,0.0028888888888888,0.002],[0.99325,0.00175,0.001],[0.983189935064935,0.0074756493506493,0.0074675324675324],[0.914521739130435,0.0054782608695652,0.0150434782608696],[0.721066666666667,0.0149333333333333,0.072],[0.935644444444445,0.0120888888888889,0.0245333333333333],[0.94,0.0047619047619047,0.0073809523809523],[0.917272727272727,0.0054545454545454,0.0034545454545454],[0.777037037037037,0.0039506172839506,0.0091358024691358],[0.790612244897959,0.0187755102040816,0.0028571428571428],[0.826574074074074,0.0056481481481481,0.0012962962962963],[0.937435897435897,0.0141025641025641,0.0384615384615385],[0.854628571428571,0.0138666666666667,0.122209523809524],[0.9202,0.0412428571428571,0.0370857142857143],[0.986111111111111,0.0058333333333333,0.0029166666666666],[0.658653846153846,0.326923076923077,0.0144230769230769],[0.96288,0.01488,0.02048],[0.9325,0.0086538461538461,0.0203846153846154],[0.95032967032967,0.0243956043956044,0.0123076923076923],[0.947520661157025,0.0121487603305785,0.0322314049586777]],\"hovertemplate\":\"Class=%{x}\\u003cbr\\u003eV2=%{y}\\u003cbr\\u003eV23=%{customdata[0]}\\u003cbr\\u003eV44=%{customdata[1]}\\u003cbr\\u003eV65=%{customdata[2]}\\u003cextra\\u003e\\u003c\\u002fextra\\u003e\",\"legendgroup\":\"0\",\"marker\":{\"color\":\"#636efa\"},\"name\":\"0\",\"offsetgroup\":\"0\",\"orientation\":\"v\",\"points\":\"all\",\"scalegroup\":\"True\",\"showlegend\":true,\"x\":[0,0,0,0,0,0,0,0,0,0,0,0,0,0,0,0,0,0,0,0,0,0,0,0,0,0,0,0,0,0,0,0,0,0,0,0,0,0,0,0,0,0,0,0,0,0,0,0,0,0,0,0,0,0],\"x0\":\" \",\"xaxis\":\"x\",\"y\":[0.118617283950617,0.0750769230769231,0.0054915785350568,8.65800865800866e-05,0.0,0.0,0.0,0.0147222222222222,0.156388888888889,0.0504166666666667,0.0158024691358025,0.015,0.0438,0.0476388888888889,0.0116296296296296,0.2,0.01625,0.114545454545455,0.0,0.0016666666666666,0.752,0.14875,0.0288888888888889,0.257428571428571,0.107111111111111,0.0,0.0,0.0,0.0006,0.0006616541353383,5.35714285714286e-05,0.0,0.0,0.172864864864865,0.0,0.004,0.0018668831168831,0.0649565217391304,0.192,0.0277333333333333,0.0478571428571429,0.0738181818181818,0.209876543209877,0.187755102040816,0.166481481481481,0.01,0.009295238095238,0.0014714285714285,0.0051388888888888,0.0,0.00176,0.0384615384615385,0.012967032967033,0.008099173553719],\"y0\":\" \",\"yaxis\":\"y\",\"type\":\"violin\"},{\"alignmentgroup\":\"True\",\"box\":{\"visible\":true},\"customdata\":[[0.260622222222222,0.0081777777777777,0.0197333333333333],[0.322060353798127,0.0117065556711759,0.0052029136316337],[0.115420129270545,0.0006155740227762,0.0],[0.243757431629013,0.0014863258026159,0.0],[0.245290745290745,0.0026617526617526,0.0],[0.489182692307692,0.0009615384615384,0.0],[0.315934065934066,0.0023402523402523,0.0],[0.1748,0.0004,0.0],[0.211020408163265,0.0044897959183673,0.0018367346938775],[0.69716049382716,0.0050617283950617,0.0034567901234567],[0.984453589391861,0.0051821368693796,0.0001524157902758],[0.119285714285714,0.0046428571428571,0.0016071428571428],[0.346871794871795,0.0043076923076923,0.0],[0.983247863247863,0.0068376068376068,0.0075213675213675],[0.366666666666667,0.01,0.0133333333333333],[0.135185185185185,0.0046296296296296,0.0],[0.618585858585859,0.0,0.0],[0.400714285714286,0.0062857142857142,0.001],[0.286805555555556,0.0005555555555555,0.0],[0.41575,0.00175,0.0],[0.0942857142857143,0.0017142857142857,0.0],[0.394,0.0008,0.0],[0.0733333333333333,0.0019444444444444,0.0],[0.0738181818181818,0.0032727272727272,0.0003636363636363],[0.7892,0.0012,0.0],[0.750952380952381,0.0078571428571428,0.0016666666666666]],\"hovertemplate\":\"Class=%{x}\\u003cbr\\u003eV2=%{y}\\u003cbr\\u003eV23=%{customdata[0]}\\u003cbr\\u003eV44=%{customdata[1]}\\u003cbr\\u003eV65=%{customdata[2]}\\u003cextra\\u003e\\u003c\\u002fextra\\u003e\",\"legendgroup\":\"1\",\"marker\":{\"color\":\"#EF553B\"},\"name\":\"1\",\"offsetgroup\":\"1\",\"orientation\":\"v\",\"points\":\"all\",\"scalegroup\":\"True\",\"showlegend\":true,\"x\":[1,1,1,1,1,1,1,1,1,1,1,1,1,1,1,1,1,1,1,1,1,1,1,1,1,1],\"x0\":\" \",\"xaxis\":\"x\",\"y\":[0.711466666666667,0.661030176899064,0.883964296706679,0.754756242568371,0.752047502047502,0.509855769230769,0.681725681725682,0.8248,0.78265306122449,0.294320987654321,0.0102118579484835,0.874464285714286,0.648820512820513,0.0023931623931623,0.61,0.860185185185185,0.381414141414141,0.592,0.712638888888889,0.5825,0.904,0.6052,0.924722222222222,0.922545454545454,0.2096,0.23952380952381],\"y0\":\" \",\"yaxis\":\"y\",\"type\":\"violin\"}],                        {\"template\":{\"data\":{\"histogram2dcontour\":[{\"type\":\"histogram2dcontour\",\"colorbar\":{\"outlinewidth\":0,\"ticks\":\"\"},\"colorscale\":[[0.0,\"#0d0887\"],[0.1111111111111111,\"#46039f\"],[0.2222222222222222,\"#7201a8\"],[0.3333333333333333,\"#9c179e\"],[0.4444444444444444,\"#bd3786\"],[0.5555555555555556,\"#d8576b\"],[0.6666666666666666,\"#ed7953\"],[0.7777777777777778,\"#fb9f3a\"],[0.8888888888888888,\"#fdca26\"],[1.0,\"#f0f921\"]]}],\"choropleth\":[{\"type\":\"choropleth\",\"colorbar\":{\"outlinewidth\":0,\"ticks\":\"\"}}],\"histogram2d\":[{\"type\":\"histogram2d\",\"colorbar\":{\"outlinewidth\":0,\"ticks\":\"\"},\"colorscale\":[[0.0,\"#0d0887\"],[0.1111111111111111,\"#46039f\"],[0.2222222222222222,\"#7201a8\"],[0.3333333333333333,\"#9c179e\"],[0.4444444444444444,\"#bd3786\"],[0.5555555555555556,\"#d8576b\"],[0.6666666666666666,\"#ed7953\"],[0.7777777777777778,\"#fb9f3a\"],[0.8888888888888888,\"#fdca26\"],[1.0,\"#f0f921\"]]}],\"heatmap\":[{\"type\":\"heatmap\",\"colorbar\":{\"outlinewidth\":0,\"ticks\":\"\"},\"colorscale\":[[0.0,\"#0d0887\"],[0.1111111111111111,\"#46039f\"],[0.2222222222222222,\"#7201a8\"],[0.3333333333333333,\"#9c179e\"],[0.4444444444444444,\"#bd3786\"],[0.5555555555555556,\"#d8576b\"],[0.6666666666666666,\"#ed7953\"],[0.7777777777777778,\"#fb9f3a\"],[0.8888888888888888,\"#fdca26\"],[1.0,\"#f0f921\"]]}],\"heatmapgl\":[{\"type\":\"heatmapgl\",\"colorbar\":{\"outlinewidth\":0,\"ticks\":\"\"},\"colorscale\":[[0.0,\"#0d0887\"],[0.1111111111111111,\"#46039f\"],[0.2222222222222222,\"#7201a8\"],[0.3333333333333333,\"#9c179e\"],[0.4444444444444444,\"#bd3786\"],[0.5555555555555556,\"#d8576b\"],[0.6666666666666666,\"#ed7953\"],[0.7777777777777778,\"#fb9f3a\"],[0.8888888888888888,\"#fdca26\"],[1.0,\"#f0f921\"]]}],\"contourcarpet\":[{\"type\":\"contourcarpet\",\"colorbar\":{\"outlinewidth\":0,\"ticks\":\"\"}}],\"contour\":[{\"type\":\"contour\",\"colorbar\":{\"outlinewidth\":0,\"ticks\":\"\"},\"colorscale\":[[0.0,\"#0d0887\"],[0.1111111111111111,\"#46039f\"],[0.2222222222222222,\"#7201a8\"],[0.3333333333333333,\"#9c179e\"],[0.4444444444444444,\"#bd3786\"],[0.5555555555555556,\"#d8576b\"],[0.6666666666666666,\"#ed7953\"],[0.7777777777777778,\"#fb9f3a\"],[0.8888888888888888,\"#fdca26\"],[1.0,\"#f0f921\"]]}],\"surface\":[{\"type\":\"surface\",\"colorbar\":{\"outlinewidth\":0,\"ticks\":\"\"},\"colorscale\":[[0.0,\"#0d0887\"],[0.1111111111111111,\"#46039f\"],[0.2222222222222222,\"#7201a8\"],[0.3333333333333333,\"#9c179e\"],[0.4444444444444444,\"#bd3786\"],[0.5555555555555556,\"#d8576b\"],[0.6666666666666666,\"#ed7953\"],[0.7777777777777778,\"#fb9f3a\"],[0.8888888888888888,\"#fdca26\"],[1.0,\"#f0f921\"]]}],\"mesh3d\":[{\"type\":\"mesh3d\",\"colorbar\":{\"outlinewidth\":0,\"ticks\":\"\"}}],\"scatter\":[{\"fillpattern\":{\"fillmode\":\"overlay\",\"size\":10,\"solidity\":0.2},\"type\":\"scatter\"}],\"parcoords\":[{\"type\":\"parcoords\",\"line\":{\"colorbar\":{\"outlinewidth\":0,\"ticks\":\"\"}}}],\"scatterpolargl\":[{\"type\":\"scatterpolargl\",\"marker\":{\"colorbar\":{\"outlinewidth\":0,\"ticks\":\"\"}}}],\"bar\":[{\"error_x\":{\"color\":\"#2a3f5f\"},\"error_y\":{\"color\":\"#2a3f5f\"},\"marker\":{\"line\":{\"color\":\"#E5ECF6\",\"width\":0.5},\"pattern\":{\"fillmode\":\"overlay\",\"size\":10,\"solidity\":0.2}},\"type\":\"bar\"}],\"scattergeo\":[{\"type\":\"scattergeo\",\"marker\":{\"colorbar\":{\"outlinewidth\":0,\"ticks\":\"\"}}}],\"scatterpolar\":[{\"type\":\"scatterpolar\",\"marker\":{\"colorbar\":{\"outlinewidth\":0,\"ticks\":\"\"}}}],\"histogram\":[{\"marker\":{\"pattern\":{\"fillmode\":\"overlay\",\"size\":10,\"solidity\":0.2}},\"type\":\"histogram\"}],\"scattergl\":[{\"type\":\"scattergl\",\"marker\":{\"colorbar\":{\"outlinewidth\":0,\"ticks\":\"\"}}}],\"scatter3d\":[{\"type\":\"scatter3d\",\"line\":{\"colorbar\":{\"outlinewidth\":0,\"ticks\":\"\"}},\"marker\":{\"colorbar\":{\"outlinewidth\":0,\"ticks\":\"\"}}}],\"scattermapbox\":[{\"type\":\"scattermapbox\",\"marker\":{\"colorbar\":{\"outlinewidth\":0,\"ticks\":\"\"}}}],\"scatterternary\":[{\"type\":\"scatterternary\",\"marker\":{\"colorbar\":{\"outlinewidth\":0,\"ticks\":\"\"}}}],\"scattercarpet\":[{\"type\":\"scattercarpet\",\"marker\":{\"colorbar\":{\"outlinewidth\":0,\"ticks\":\"\"}}}],\"carpet\":[{\"aaxis\":{\"endlinecolor\":\"#2a3f5f\",\"gridcolor\":\"white\",\"linecolor\":\"white\",\"minorgridcolor\":\"white\",\"startlinecolor\":\"#2a3f5f\"},\"baxis\":{\"endlinecolor\":\"#2a3f5f\",\"gridcolor\":\"white\",\"linecolor\":\"white\",\"minorgridcolor\":\"white\",\"startlinecolor\":\"#2a3f5f\"},\"type\":\"carpet\"}],\"table\":[{\"cells\":{\"fill\":{\"color\":\"#EBF0F8\"},\"line\":{\"color\":\"white\"}},\"header\":{\"fill\":{\"color\":\"#C8D4E3\"},\"line\":{\"color\":\"white\"}},\"type\":\"table\"}],\"barpolar\":[{\"marker\":{\"line\":{\"color\":\"#E5ECF6\",\"width\":0.5},\"pattern\":{\"fillmode\":\"overlay\",\"size\":10,\"solidity\":0.2}},\"type\":\"barpolar\"}],\"pie\":[{\"automargin\":true,\"type\":\"pie\"}]},\"layout\":{\"autotypenumbers\":\"strict\",\"colorway\":[\"#636efa\",\"#EF553B\",\"#00cc96\",\"#ab63fa\",\"#FFA15A\",\"#19d3f3\",\"#FF6692\",\"#B6E880\",\"#FF97FF\",\"#FECB52\"],\"font\":{\"color\":\"#2a3f5f\"},\"hovermode\":\"closest\",\"hoverlabel\":{\"align\":\"left\"},\"paper_bgcolor\":\"white\",\"plot_bgcolor\":\"#E5ECF6\",\"polar\":{\"bgcolor\":\"#E5ECF6\",\"angularaxis\":{\"gridcolor\":\"white\",\"linecolor\":\"white\",\"ticks\":\"\"},\"radialaxis\":{\"gridcolor\":\"white\",\"linecolor\":\"white\",\"ticks\":\"\"}},\"ternary\":{\"bgcolor\":\"#E5ECF6\",\"aaxis\":{\"gridcolor\":\"white\",\"linecolor\":\"white\",\"ticks\":\"\"},\"baxis\":{\"gridcolor\":\"white\",\"linecolor\":\"white\",\"ticks\":\"\"},\"caxis\":{\"gridcolor\":\"white\",\"linecolor\":\"white\",\"ticks\":\"\"}},\"coloraxis\":{\"colorbar\":{\"outlinewidth\":0,\"ticks\":\"\"}},\"colorscale\":{\"sequential\":[[0.0,\"#0d0887\"],[0.1111111111111111,\"#46039f\"],[0.2222222222222222,\"#7201a8\"],[0.3333333333333333,\"#9c179e\"],[0.4444444444444444,\"#bd3786\"],[0.5555555555555556,\"#d8576b\"],[0.6666666666666666,\"#ed7953\"],[0.7777777777777778,\"#fb9f3a\"],[0.8888888888888888,\"#fdca26\"],[1.0,\"#f0f921\"]],\"sequentialminus\":[[0.0,\"#0d0887\"],[0.1111111111111111,\"#46039f\"],[0.2222222222222222,\"#7201a8\"],[0.3333333333333333,\"#9c179e\"],[0.4444444444444444,\"#bd3786\"],[0.5555555555555556,\"#d8576b\"],[0.6666666666666666,\"#ed7953\"],[0.7777777777777778,\"#fb9f3a\"],[0.8888888888888888,\"#fdca26\"],[1.0,\"#f0f921\"]],\"diverging\":[[0,\"#8e0152\"],[0.1,\"#c51b7d\"],[0.2,\"#de77ae\"],[0.3,\"#f1b6da\"],[0.4,\"#fde0ef\"],[0.5,\"#f7f7f7\"],[0.6,\"#e6f5d0\"],[0.7,\"#b8e186\"],[0.8,\"#7fbc41\"],[0.9,\"#4d9221\"],[1,\"#276419\"]]},\"xaxis\":{\"gridcolor\":\"white\",\"linecolor\":\"white\",\"ticks\":\"\",\"title\":{\"standoff\":15},\"zerolinecolor\":\"white\",\"automargin\":true,\"zerolinewidth\":2},\"yaxis\":{\"gridcolor\":\"white\",\"linecolor\":\"white\",\"ticks\":\"\",\"title\":{\"standoff\":15},\"zerolinecolor\":\"white\",\"automargin\":true,\"zerolinewidth\":2},\"scene\":{\"xaxis\":{\"backgroundcolor\":\"#E5ECF6\",\"gridcolor\":\"white\",\"linecolor\":\"white\",\"showbackground\":true,\"ticks\":\"\",\"zerolinecolor\":\"white\",\"gridwidth\":2},\"yaxis\":{\"backgroundcolor\":\"#E5ECF6\",\"gridcolor\":\"white\",\"linecolor\":\"white\",\"showbackground\":true,\"ticks\":\"\",\"zerolinecolor\":\"white\",\"gridwidth\":2},\"zaxis\":{\"backgroundcolor\":\"#E5ECF6\",\"gridcolor\":\"white\",\"linecolor\":\"white\",\"showbackground\":true,\"ticks\":\"\",\"zerolinecolor\":\"white\",\"gridwidth\":2}},\"shapedefaults\":{\"line\":{\"color\":\"#2a3f5f\"}},\"annotationdefaults\":{\"arrowcolor\":\"#2a3f5f\",\"arrowhead\":0,\"arrowwidth\":1},\"geo\":{\"bgcolor\":\"white\",\"landcolor\":\"#E5ECF6\",\"subunitcolor\":\"white\",\"showland\":true,\"showlakes\":true,\"lakecolor\":\"white\"},\"title\":{\"x\":0.05},\"mapbox\":{\"style\":\"light\"}}},\"xaxis\":{\"anchor\":\"y\",\"domain\":[0.0,1.0],\"title\":{\"text\":\"Class\"},\"categoryorder\":\"array\",\"categoryarray\":[0,1]},\"yaxis\":{\"anchor\":\"x\",\"domain\":[0.0,1.0],\"title\":{\"text\":\"V2\"}},\"legend\":{\"title\":{\"text\":\"Class\"},\"tracegroupgap\":0},\"margin\":{\"t\":60},\"violinmode\":\"overlay\"},                        {\"responsive\": true}                    )                };                            </script>        </div>"
      ],
      "text/plain": [
       "Figure({\n",
       "    'data': [{'alignmentgroup': 'True',\n",
       "              'box': {'visible': True},\n",
       "              'customdata': array([[8.10172840e-01, 3.10123457e-02, 4.01975309e-02],\n",
       "                                   [8.96307692e-01, 7.69230769e-03, 2.09230769e-02],\n",
       "                                   [9.70152761e-01, 1.02702703e-02, 1.40853897e-02],\n",
       "                                   [9.80490620e-01, 1.19480519e-02, 7.47474747e-03],\n",
       "                                   [9.06647727e-01, 1.27272727e-02, 8.06250000e-02],\n",
       "                                   [9.35344828e-01, 4.23275862e-02, 2.23275862e-02],\n",
       "                                   [9.89795918e-01, 6.07142857e-03, 4.13265306e-03],\n",
       "                                   [9.57500000e-01, 1.30555556e-02, 1.47222222e-02],\n",
       "                                   [8.15833333e-01, 1.05555556e-02, 1.72222222e-02],\n",
       "                                   [9.03125000e-01, 2.20833333e-02, 2.43750000e-02],\n",
       "                                   [9.55555556e-01, 1.28395062e-02, 1.58024691e-02],\n",
       "                                   [9.59285714e-01, 1.45714286e-02, 1.11428571e-02],\n",
       "                                   [9.36800000e-01, 9.10000000e-03, 1.03000000e-02],\n",
       "                                   [9.22638889e-01, 1.20833333e-02, 1.76388889e-02],\n",
       "                                   [9.61259259e-01, 1.56296296e-02, 1.14814815e-02],\n",
       "                                   [7.31570248e-01, 1.02479339e-02, 5.81818182e-02],\n",
       "                                   [9.59134615e-01, 9.61538462e-03, 1.50000000e-02],\n",
       "                                   [8.16545455e-01, 1.80000000e-02, 5.09090909e-02],\n",
       "                                   [9.73600000e-01, 1.00000000e-02, 1.64000000e-02],\n",
       "                                   [9.65069444e-01, 7.36111111e-03, 2.59027778e-02],\n",
       "                                   [2.46400000e-01, 8.00000000e-04, 8.00000000e-04],\n",
       "                                   [8.36875000e-01, 1.00000000e-02, 4.37500000e-03],\n",
       "                                   [9.60000000e-01, 1.11111111e-02, 0.00000000e+00],\n",
       "                                   [7.29428571e-01, 8.00000000e-03, 5.14285714e-03],\n",
       "                                   [7.98222222e-01, 2.35555556e-02, 7.11111111e-02],\n",
       "                                   [9.17333333e-01, 8.26666667e-02, 0.00000000e+00],\n",
       "                                   [4.81618438e-01, 4.97843790e-01, 2.05377721e-02],\n",
       "                                   [9.50534759e-01, 1.01604278e-02, 3.93048128e-02],\n",
       "                                   [8.33900000e-01, 2.42000000e-02, 1.41300000e-01],\n",
       "                                   [9.09533835e-01, 2.69473684e-02, 6.28571429e-02],\n",
       "                                   [9.84214286e-01, 1.10357143e-02, 4.69642857e-03],\n",
       "                                   [7.32397661e-01, 2.26003899e-01, 4.15984405e-02],\n",
       "                                   [9.44000000e-01, 2.69000000e-02, 2.91000000e-02],\n",
       "                                   [8.15459459e-01, 1.16756757e-02, 0.00000000e+00],\n",
       "                                   [9.95111111e-01, 2.88888889e-03, 2.00000000e-03],\n",
       "                                   [9.93250000e-01, 1.75000000e-03, 1.00000000e-03],\n",
       "                                   [9.83189935e-01, 7.47564935e-03, 7.46753247e-03],\n",
       "                                   [9.14521739e-01, 5.47826087e-03, 1.50434783e-02],\n",
       "                                   [7.21066667e-01, 1.49333333e-02, 7.20000000e-02],\n",
       "                                   [9.35644444e-01, 1.20888889e-02, 2.45333333e-02],\n",
       "                                   [9.40000000e-01, 4.76190476e-03, 7.38095238e-03],\n",
       "                                   [9.17272727e-01, 5.45454545e-03, 3.45454545e-03],\n",
       "                                   [7.77037037e-01, 3.95061728e-03, 9.13580247e-03],\n",
       "                                   [7.90612245e-01, 1.87755102e-02, 2.85714286e-03],\n",
       "                                   [8.26574074e-01, 5.64814815e-03, 1.29629630e-03],\n",
       "                                   [9.37435897e-01, 1.41025641e-02, 3.84615385e-02],\n",
       "                                   [8.54628571e-01, 1.38666667e-02, 1.22209524e-01],\n",
       "                                   [9.20200000e-01, 4.12428571e-02, 3.70857143e-02],\n",
       "                                   [9.86111111e-01, 5.83333333e-03, 2.91666667e-03],\n",
       "                                   [6.58653846e-01, 3.26923077e-01, 1.44230769e-02],\n",
       "                                   [9.62880000e-01, 1.48800000e-02, 2.04800000e-02],\n",
       "                                   [9.32500000e-01, 8.65384615e-03, 2.03846154e-02],\n",
       "                                   [9.50329670e-01, 2.43956044e-02, 1.23076923e-02],\n",
       "                                   [9.47520661e-01, 1.21487603e-02, 3.22314050e-02]]),\n",
       "              'hovertemplate': ('Class=%{x}<br>V2=%{y}<br>V23=%' ... '{customdata[2]}<extra></extra>'),\n",
       "              'legendgroup': '0',\n",
       "              'marker': {'color': '#636efa'},\n",
       "              'name': '0',\n",
       "              'offsetgroup': '0',\n",
       "              'orientation': 'v',\n",
       "              'points': 'all',\n",
       "              'scalegroup': 'True',\n",
       "              'showlegend': True,\n",
       "              'type': 'violin',\n",
       "              'x': array([0, 0, 0, 0, 0, 0, 0, 0, 0, 0, 0, 0, 0, 0, 0, 0, 0, 0, 0, 0, 0, 0, 0, 0,\n",
       "                          0, 0, 0, 0, 0, 0, 0, 0, 0, 0, 0, 0, 0, 0, 0, 0, 0, 0, 0, 0, 0, 0, 0, 0,\n",
       "                          0, 0, 0, 0, 0, 0]),\n",
       "              'x0': ' ',\n",
       "              'xaxis': 'x',\n",
       "              'y': array([1.18617284e-01, 7.50769231e-02, 5.49157854e-03, 8.65800866e-05,\n",
       "                          0.00000000e+00, 0.00000000e+00, 0.00000000e+00, 1.47222222e-02,\n",
       "                          1.56388889e-01, 5.04166667e-02, 1.58024691e-02, 1.50000000e-02,\n",
       "                          4.38000000e-02, 4.76388889e-02, 1.16296296e-02, 2.00000000e-01,\n",
       "                          1.62500000e-02, 1.14545455e-01, 0.00000000e+00, 1.66666667e-03,\n",
       "                          7.52000000e-01, 1.48750000e-01, 2.88888889e-02, 2.57428571e-01,\n",
       "                          1.07111111e-01, 0.00000000e+00, 0.00000000e+00, 0.00000000e+00,\n",
       "                          6.00000000e-04, 6.61654135e-04, 5.35714286e-05, 0.00000000e+00,\n",
       "                          0.00000000e+00, 1.72864865e-01, 0.00000000e+00, 4.00000000e-03,\n",
       "                          1.86688312e-03, 6.49565217e-02, 1.92000000e-01, 2.77333333e-02,\n",
       "                          4.78571429e-02, 7.38181818e-02, 2.09876543e-01, 1.87755102e-01,\n",
       "                          1.66481481e-01, 1.00000000e-02, 9.29523810e-03, 1.47142857e-03,\n",
       "                          5.13888889e-03, 0.00000000e+00, 1.76000000e-03, 3.84615385e-02,\n",
       "                          1.29670330e-02, 8.09917355e-03]),\n",
       "              'y0': ' ',\n",
       "              'yaxis': 'y'},\n",
       "             {'alignmentgroup': 'True',\n",
       "              'box': {'visible': True},\n",
       "              'customdata': array([[2.60622222e-01, 8.17777778e-03, 1.97333333e-02],\n",
       "                                   [3.22060354e-01, 1.17065557e-02, 5.20291363e-03],\n",
       "                                   [1.15420129e-01, 6.15574023e-04, 0.00000000e+00],\n",
       "                                   [2.43757432e-01, 1.48632580e-03, 0.00000000e+00],\n",
       "                                   [2.45290745e-01, 2.66175266e-03, 0.00000000e+00],\n",
       "                                   [4.89182692e-01, 9.61538462e-04, 0.00000000e+00],\n",
       "                                   [3.15934066e-01, 2.34025234e-03, 0.00000000e+00],\n",
       "                                   [1.74800000e-01, 4.00000000e-04, 0.00000000e+00],\n",
       "                                   [2.11020408e-01, 4.48979592e-03, 1.83673469e-03],\n",
       "                                   [6.97160494e-01, 5.06172840e-03, 3.45679012e-03],\n",
       "                                   [9.84453589e-01, 5.18213687e-03, 1.52415790e-04],\n",
       "                                   [1.19285714e-01, 4.64285714e-03, 1.60714286e-03],\n",
       "                                   [3.46871795e-01, 4.30769231e-03, 0.00000000e+00],\n",
       "                                   [9.83247863e-01, 6.83760684e-03, 7.52136752e-03],\n",
       "                                   [3.66666667e-01, 1.00000000e-02, 1.33333333e-02],\n",
       "                                   [1.35185185e-01, 4.62962963e-03, 0.00000000e+00],\n",
       "                                   [6.18585859e-01, 0.00000000e+00, 0.00000000e+00],\n",
       "                                   [4.00714286e-01, 6.28571429e-03, 1.00000000e-03],\n",
       "                                   [2.86805556e-01, 5.55555556e-04, 0.00000000e+00],\n",
       "                                   [4.15750000e-01, 1.75000000e-03, 0.00000000e+00],\n",
       "                                   [9.42857143e-02, 1.71428571e-03, 0.00000000e+00],\n",
       "                                   [3.94000000e-01, 8.00000000e-04, 0.00000000e+00],\n",
       "                                   [7.33333333e-02, 1.94444444e-03, 0.00000000e+00],\n",
       "                                   [7.38181818e-02, 3.27272727e-03, 3.63636364e-04],\n",
       "                                   [7.89200000e-01, 1.20000000e-03, 0.00000000e+00],\n",
       "                                   [7.50952381e-01, 7.85714286e-03, 1.66666667e-03]]),\n",
       "              'hovertemplate': ('Class=%{x}<br>V2=%{y}<br>V23=%' ... '{customdata[2]}<extra></extra>'),\n",
       "              'legendgroup': '1',\n",
       "              'marker': {'color': '#EF553B'},\n",
       "              'name': '1',\n",
       "              'offsetgroup': '1',\n",
       "              'orientation': 'v',\n",
       "              'points': 'all',\n",
       "              'scalegroup': 'True',\n",
       "              'showlegend': True,\n",
       "              'type': 'violin',\n",
       "              'x': array([1, 1, 1, 1, 1, 1, 1, 1, 1, 1, 1, 1, 1, 1, 1, 1, 1, 1, 1, 1, 1, 1, 1, 1,\n",
       "                          1, 1]),\n",
       "              'x0': ' ',\n",
       "              'xaxis': 'x',\n",
       "              'y': array([0.71146667, 0.66103018, 0.8839643 , 0.75475624, 0.7520475 , 0.50985577,\n",
       "                          0.68172568, 0.8248    , 0.78265306, 0.29432099, 0.01021186, 0.87446429,\n",
       "                          0.64882051, 0.00239316, 0.61      , 0.86018519, 0.38141414, 0.592     ,\n",
       "                          0.71263889, 0.5825    , 0.904     , 0.6052    , 0.92472222, 0.92254545,\n",
       "                          0.2096    , 0.23952381]),\n",
       "              'y0': ' ',\n",
       "              'yaxis': 'y'}],\n",
       "    'layout': {'legend': {'title': {'text': 'Class'}, 'tracegroupgap': 0},\n",
       "               'margin': {'t': 60},\n",
       "               'template': '...',\n",
       "               'violinmode': 'overlay',\n",
       "               'xaxis': {'anchor': 'y',\n",
       "                         'categoryarray': [0, 1],\n",
       "                         'categoryorder': 'array',\n",
       "                         'domain': [0.0, 1.0],\n",
       "                         'title': {'text': 'Class'}},\n",
       "               'yaxis': {'anchor': 'x', 'domain': [0.0, 1.0], 'title': {'text': 'V2'}}}\n",
       "})"
      ]
     },
     "execution_count": 9,
     "metadata": {},
     "output_type": "execute_result"
    }
   ],
   "source": [
    "y = train_scaled.columns[0]\n",
    "px.violin(train, y=y, x=\"Class\", color=\"Class\", box=True, points=\"all\",\n",
    "        hover_data=train1.columns)"
   ]
  },
  {
   "cell_type": "code",
   "execution_count": 10,
   "metadata": {},
   "outputs": [
    {
     "ename": "ValueError",
     "evalue": "Mime type rendering requires nbformat>=4.2.0 but it is not installed",
     "output_type": "error",
     "traceback": [
      "\u001b[0;31m---------------------------------------------------------------------------\u001b[0m",
      "\u001b[0;31mValueError\u001b[0m                                Traceback (most recent call last)",
      "File \u001b[0;32m~/miniconda3/envs/sop/lib/python3.10/site-packages/IPython/core/formatters.py:925\u001b[0m, in \u001b[0;36mIPythonDisplayFormatter.__call__\u001b[0;34m(self, obj)\u001b[0m\n\u001b[1;32m    923\u001b[0m method \u001b[38;5;241m=\u001b[39m get_real_method(obj, \u001b[38;5;28mself\u001b[39m\u001b[38;5;241m.\u001b[39mprint_method)\n\u001b[1;32m    924\u001b[0m \u001b[38;5;28;01mif\u001b[39;00m method \u001b[38;5;129;01mis\u001b[39;00m \u001b[38;5;129;01mnot\u001b[39;00m \u001b[38;5;28;01mNone\u001b[39;00m:\n\u001b[0;32m--> 925\u001b[0m     \u001b[43mmethod\u001b[49m\u001b[43m(\u001b[49m\u001b[43m)\u001b[49m\n\u001b[1;32m    926\u001b[0m     \u001b[38;5;28;01mreturn\u001b[39;00m \u001b[38;5;28;01mTrue\u001b[39;00m\n",
      "File \u001b[0;32m~/miniconda3/envs/sop/lib/python3.10/site-packages/plotly/basedatatypes.py:832\u001b[0m, in \u001b[0;36mBaseFigure._ipython_display_\u001b[0;34m(self)\u001b[0m\n\u001b[1;32m    829\u001b[0m \u001b[38;5;28;01mimport\u001b[39;00m \u001b[38;5;21;01mplotly\u001b[39;00m\u001b[38;5;21;01m.\u001b[39;00m\u001b[38;5;21;01mio\u001b[39;00m \u001b[38;5;28;01mas\u001b[39;00m \u001b[38;5;21;01mpio\u001b[39;00m\n\u001b[1;32m    831\u001b[0m \u001b[38;5;28;01mif\u001b[39;00m pio\u001b[38;5;241m.\u001b[39mrenderers\u001b[38;5;241m.\u001b[39mrender_on_display \u001b[38;5;129;01mand\u001b[39;00m pio\u001b[38;5;241m.\u001b[39mrenderers\u001b[38;5;241m.\u001b[39mdefault:\n\u001b[0;32m--> 832\u001b[0m     \u001b[43mpio\u001b[49m\u001b[38;5;241;43m.\u001b[39;49m\u001b[43mshow\u001b[49m\u001b[43m(\u001b[49m\u001b[38;5;28;43mself\u001b[39;49m\u001b[43m)\u001b[49m\n\u001b[1;32m    833\u001b[0m \u001b[38;5;28;01melse\u001b[39;00m:\n\u001b[1;32m    834\u001b[0m     \u001b[38;5;28mprint\u001b[39m(\u001b[38;5;28mrepr\u001b[39m(\u001b[38;5;28mself\u001b[39m))\n",
      "File \u001b[0;32m~/miniconda3/envs/sop/lib/python3.10/site-packages/plotly/io/_renderers.py:394\u001b[0m, in \u001b[0;36mshow\u001b[0;34m(fig, renderer, validate, **kwargs)\u001b[0m\n\u001b[1;32m    389\u001b[0m         \u001b[38;5;28;01mraise\u001b[39;00m \u001b[38;5;167;01mValueError\u001b[39;00m(\n\u001b[1;32m    390\u001b[0m             \u001b[38;5;124m\"\u001b[39m\u001b[38;5;124mMime type rendering requires ipython but it is not installed\u001b[39m\u001b[38;5;124m\"\u001b[39m\n\u001b[1;32m    391\u001b[0m         )\n\u001b[1;32m    393\u001b[0m     \u001b[38;5;28;01mif\u001b[39;00m \u001b[38;5;129;01mnot\u001b[39;00m nbformat \u001b[38;5;129;01mor\u001b[39;00m Version(nbformat\u001b[38;5;241m.\u001b[39m__version__) \u001b[38;5;241m<\u001b[39m Version(\u001b[38;5;124m\"\u001b[39m\u001b[38;5;124m4.2.0\u001b[39m\u001b[38;5;124m\"\u001b[39m):\n\u001b[0;32m--> 394\u001b[0m         \u001b[38;5;28;01mraise\u001b[39;00m \u001b[38;5;167;01mValueError\u001b[39;00m(\n\u001b[1;32m    395\u001b[0m             \u001b[38;5;124m\"\u001b[39m\u001b[38;5;124mMime type rendering requires nbformat>=4.2.0 but it is not installed\u001b[39m\u001b[38;5;124m\"\u001b[39m\n\u001b[1;32m    396\u001b[0m         )\n\u001b[1;32m    398\u001b[0m     ipython_display\u001b[38;5;241m.\u001b[39mdisplay(bundle, raw\u001b[38;5;241m=\u001b[39m\u001b[38;5;28;01mTrue\u001b[39;00m)\n\u001b[1;32m    400\u001b[0m \u001b[38;5;66;03m# external renderers\u001b[39;00m\n",
      "\u001b[0;31mValueError\u001b[0m: Mime type rendering requires nbformat>=4.2.0 but it is not installed"
     ]
    },
    {
     "data": {
      "application/vnd.plotly.v1+json": {
       "config": {
        "plotlyServerURL": "https://plot.ly"
       },
       "data": [
        {
         "alignmentgroup": "True",
         "box": {
          "visible": true
         },
         "customdata": [
          [
           0.118617283950617,
           0.0310123456790123,
           0.0401975308641975
          ],
          [
           0.0750769230769231,
           0.0076923076923076,
           0.0209230769230769
          ],
          [
           0.0054915785350568,
           0.0102702702702703,
           0.0140853897375637
          ],
          [
           0.0000865800865800866,
           0.0119480519480519,
           0.0074747474747474
          ],
          [
           0,
           0.0127272727272727,
           0.080625
          ],
          [
           0,
           0.0423275862068965,
           0.0223275862068965
          ],
          [
           0,
           0.0060714285714285,
           0.0041326530612244
          ],
          [
           0.0147222222222222,
           0.0130555555555556,
           0.0147222222222222
          ],
          [
           0.156388888888889,
           0.0105555555555556,
           0.0172222222222222
          ],
          [
           0.0504166666666667,
           0.0220833333333333,
           0.024375
          ],
          [
           0.0158024691358025,
           0.0128395061728395,
           0.0158024691358025
          ],
          [
           0.015,
           0.0145714285714286,
           0.0111428571428571
          ],
          [
           0.0438,
           0.0091,
           0.0103
          ],
          [
           0.0476388888888889,
           0.0120833333333333,
           0.0176388888888889
          ],
          [
           0.0116296296296296,
           0.0156296296296296,
           0.0114814814814815
          ],
          [
           0.2,
           0.0102479338842975,
           0.0581818181818182
          ],
          [
           0.01625,
           0.0096153846153846,
           0.015
          ],
          [
           0.114545454545455,
           0.018,
           0.0509090909090909
          ],
          [
           0,
           0.01,
           0.0164
          ],
          [
           0.0016666666666666,
           0.0073611111111111,
           0.0259027777777778
          ],
          [
           0.752,
           0.0008,
           0.0008
          ],
          [
           0.14875,
           0.01,
           0.004375
          ],
          [
           0.0288888888888889,
           0.0111111111111111,
           0
          ],
          [
           0.257428571428571,
           0.008,
           0.0051428571428571
          ],
          [
           0.107111111111111,
           0.0235555555555556,
           0.0711111111111111
          ],
          [
           0,
           0.0826666666666667,
           0
          ],
          [
           0,
           0.497843790012804,
           0.0205377720870679
          ],
          [
           0,
           0.0101604278074866,
           0.0393048128342246
          ],
          [
           0.0006,
           0.0242,
           0.1413
          ],
          [
           0.0006616541353383,
           0.0269473684210526,
           0.0628571428571429
          ],
          [
           0.0000535714285714286,
           0.0110357142857143,
           0.0046964285714285
          ],
          [
           0,
           0.226003898635478,
           0.041598440545809
          ],
          [
           0,
           0.0269,
           0.0291
          ],
          [
           0.172864864864865,
           0.0116756756756757,
           0
          ],
          [
           0,
           0.0028888888888888,
           0.002
          ],
          [
           0.004,
           0.00175,
           0.001
          ],
          [
           0.0018668831168831,
           0.0074756493506493,
           0.0074675324675324
          ],
          [
           0.0649565217391304,
           0.0054782608695652,
           0.0150434782608696
          ],
          [
           0.192,
           0.0149333333333333,
           0.072
          ],
          [
           0.0277333333333333,
           0.0120888888888889,
           0.0245333333333333
          ],
          [
           0.0478571428571429,
           0.0047619047619047,
           0.0073809523809523
          ],
          [
           0.0738181818181818,
           0.0054545454545454,
           0.0034545454545454
          ],
          [
           0.209876543209877,
           0.0039506172839506,
           0.0091358024691358
          ],
          [
           0.187755102040816,
           0.0187755102040816,
           0.0028571428571428
          ],
          [
           0.166481481481481,
           0.0056481481481481,
           0.0012962962962963
          ],
          [
           0.01,
           0.0141025641025641,
           0.0384615384615385
          ],
          [
           0.009295238095238,
           0.0138666666666667,
           0.122209523809524
          ],
          [
           0.0014714285714285,
           0.0412428571428571,
           0.0370857142857143
          ],
          [
           0.0051388888888888,
           0.0058333333333333,
           0.0029166666666666
          ],
          [
           0,
           0.326923076923077,
           0.0144230769230769
          ],
          [
           0.00176,
           0.01488,
           0.02048
          ],
          [
           0.0384615384615385,
           0.0086538461538461,
           0.0203846153846154
          ],
          [
           0.012967032967033,
           0.0243956043956044,
           0.0123076923076923
          ],
          [
           0.008099173553719,
           0.0121487603305785,
           0.0322314049586777
          ]
         ],
         "hovertemplate": "Class=%{x}<br>V23=%{y}<br>V2=%{customdata[0]}<br>V44=%{customdata[1]}<br>V65=%{customdata[2]}<extra></extra>",
         "legendgroup": "0",
         "marker": {
          "color": "#636efa"
         },
         "name": "0",
         "offsetgroup": "0",
         "orientation": "v",
         "points": "all",
         "scalegroup": "True",
         "showlegend": true,
         "type": "violin",
         "x": [
          0,
          0,
          0,
          0,
          0,
          0,
          0,
          0,
          0,
          0,
          0,
          0,
          0,
          0,
          0,
          0,
          0,
          0,
          0,
          0,
          0,
          0,
          0,
          0,
          0,
          0,
          0,
          0,
          0,
          0,
          0,
          0,
          0,
          0,
          0,
          0,
          0,
          0,
          0,
          0,
          0,
          0,
          0,
          0,
          0,
          0,
          0,
          0,
          0,
          0,
          0,
          0,
          0,
          0
         ],
         "x0": " ",
         "xaxis": "x",
         "y": [
          0.810172839506173,
          0.896307692307692,
          0.970152761457109,
          0.980490620490621,
          0.906647727272727,
          0.935344827586207,
          0.989795918367347,
          0.9575,
          0.815833333333333,
          0.903125,
          0.955555555555556,
          0.959285714285714,
          0.9368,
          0.922638888888889,
          0.961259259259259,
          0.731570247933884,
          0.959134615384615,
          0.816545454545454,
          0.9736,
          0.965069444444444,
          0.2464,
          0.836875,
          0.96,
          0.729428571428572,
          0.798222222222222,
          0.917333333333333,
          0.481618437900128,
          0.950534759358289,
          0.8339,
          0.909533834586466,
          0.984214285714286,
          0.732397660818713,
          0.944,
          0.815459459459459,
          0.995111111111111,
          0.99325,
          0.983189935064935,
          0.914521739130435,
          0.721066666666667,
          0.935644444444445,
          0.94,
          0.917272727272727,
          0.777037037037037,
          0.790612244897959,
          0.826574074074074,
          0.937435897435897,
          0.854628571428571,
          0.9202,
          0.986111111111111,
          0.658653846153846,
          0.96288,
          0.9325,
          0.95032967032967,
          0.947520661157025
         ],
         "y0": " ",
         "yaxis": "y"
        },
        {
         "alignmentgroup": "True",
         "box": {
          "visible": true
         },
         "customdata": [
          [
           0.711466666666667,
           0.0081777777777777,
           0.0197333333333333
          ],
          [
           0.661030176899064,
           0.0117065556711759,
           0.0052029136316337
          ],
          [
           0.883964296706679,
           0.0006155740227762,
           0
          ],
          [
           0.754756242568371,
           0.0014863258026159,
           0
          ],
          [
           0.752047502047502,
           0.0026617526617526,
           0
          ],
          [
           0.509855769230769,
           0.0009615384615384,
           0
          ],
          [
           0.681725681725682,
           0.0023402523402523,
           0
          ],
          [
           0.8248,
           0.0004,
           0
          ],
          [
           0.78265306122449,
           0.0044897959183673,
           0.0018367346938775
          ],
          [
           0.294320987654321,
           0.0050617283950617,
           0.0034567901234567
          ],
          [
           0.0102118579484835,
           0.0051821368693796,
           0.0001524157902758
          ],
          [
           0.874464285714286,
           0.0046428571428571,
           0.0016071428571428
          ],
          [
           0.648820512820513,
           0.0043076923076923,
           0
          ],
          [
           0.0023931623931623,
           0.0068376068376068,
           0.0075213675213675
          ],
          [
           0.61,
           0.01,
           0.0133333333333333
          ],
          [
           0.860185185185185,
           0.0046296296296296,
           0
          ],
          [
           0.381414141414141,
           0,
           0
          ],
          [
           0.592,
           0.0062857142857142,
           0.001
          ],
          [
           0.712638888888889,
           0.0005555555555555,
           0
          ],
          [
           0.5825,
           0.00175,
           0
          ],
          [
           0.904,
           0.0017142857142857,
           0
          ],
          [
           0.6052,
           0.0008,
           0
          ],
          [
           0.924722222222222,
           0.0019444444444444,
           0
          ],
          [
           0.922545454545454,
           0.0032727272727272,
           0.0003636363636363
          ],
          [
           0.2096,
           0.0012,
           0
          ],
          [
           0.23952380952381,
           0.0078571428571428,
           0.0016666666666666
          ]
         ],
         "hovertemplate": "Class=%{x}<br>V23=%{y}<br>V2=%{customdata[0]}<br>V44=%{customdata[1]}<br>V65=%{customdata[2]}<extra></extra>",
         "legendgroup": "1",
         "marker": {
          "color": "#EF553B"
         },
         "name": "1",
         "offsetgroup": "1",
         "orientation": "v",
         "points": "all",
         "scalegroup": "True",
         "showlegend": true,
         "type": "violin",
         "x": [
          1,
          1,
          1,
          1,
          1,
          1,
          1,
          1,
          1,
          1,
          1,
          1,
          1,
          1,
          1,
          1,
          1,
          1,
          1,
          1,
          1,
          1,
          1,
          1,
          1,
          1
         ],
         "x0": " ",
         "xaxis": "x",
         "y": [
          0.260622222222222,
          0.322060353798127,
          0.115420129270545,
          0.243757431629013,
          0.245290745290745,
          0.489182692307692,
          0.315934065934066,
          0.1748,
          0.211020408163265,
          0.69716049382716,
          0.984453589391861,
          0.119285714285714,
          0.346871794871795,
          0.983247863247863,
          0.366666666666667,
          0.135185185185185,
          0.618585858585859,
          0.400714285714286,
          0.286805555555556,
          0.41575,
          0.0942857142857143,
          0.394,
          0.0733333333333333,
          0.0738181818181818,
          0.7892,
          0.750952380952381
         ],
         "y0": " ",
         "yaxis": "y"
        }
       ],
       "layout": {
        "legend": {
         "title": {
          "text": "Class"
         },
         "tracegroupgap": 0
        },
        "margin": {
         "t": 60
        },
        "template": {
         "data": {
          "bar": [
           {
            "error_x": {
             "color": "#2a3f5f"
            },
            "error_y": {
             "color": "#2a3f5f"
            },
            "marker": {
             "line": {
              "color": "#E5ECF6",
              "width": 0.5
             },
             "pattern": {
              "fillmode": "overlay",
              "size": 10,
              "solidity": 0.2
             }
            },
            "type": "bar"
           }
          ],
          "barpolar": [
           {
            "marker": {
             "line": {
              "color": "#E5ECF6",
              "width": 0.5
             },
             "pattern": {
              "fillmode": "overlay",
              "size": 10,
              "solidity": 0.2
             }
            },
            "type": "barpolar"
           }
          ],
          "carpet": [
           {
            "aaxis": {
             "endlinecolor": "#2a3f5f",
             "gridcolor": "white",
             "linecolor": "white",
             "minorgridcolor": "white",
             "startlinecolor": "#2a3f5f"
            },
            "baxis": {
             "endlinecolor": "#2a3f5f",
             "gridcolor": "white",
             "linecolor": "white",
             "minorgridcolor": "white",
             "startlinecolor": "#2a3f5f"
            },
            "type": "carpet"
           }
          ],
          "choropleth": [
           {
            "colorbar": {
             "outlinewidth": 0,
             "ticks": ""
            },
            "type": "choropleth"
           }
          ],
          "contour": [
           {
            "colorbar": {
             "outlinewidth": 0,
             "ticks": ""
            },
            "colorscale": [
             [
              0,
              "#0d0887"
             ],
             [
              0.1111111111111111,
              "#46039f"
             ],
             [
              0.2222222222222222,
              "#7201a8"
             ],
             [
              0.3333333333333333,
              "#9c179e"
             ],
             [
              0.4444444444444444,
              "#bd3786"
             ],
             [
              0.5555555555555556,
              "#d8576b"
             ],
             [
              0.6666666666666666,
              "#ed7953"
             ],
             [
              0.7777777777777778,
              "#fb9f3a"
             ],
             [
              0.8888888888888888,
              "#fdca26"
             ],
             [
              1,
              "#f0f921"
             ]
            ],
            "type": "contour"
           }
          ],
          "contourcarpet": [
           {
            "colorbar": {
             "outlinewidth": 0,
             "ticks": ""
            },
            "type": "contourcarpet"
           }
          ],
          "heatmap": [
           {
            "colorbar": {
             "outlinewidth": 0,
             "ticks": ""
            },
            "colorscale": [
             [
              0,
              "#0d0887"
             ],
             [
              0.1111111111111111,
              "#46039f"
             ],
             [
              0.2222222222222222,
              "#7201a8"
             ],
             [
              0.3333333333333333,
              "#9c179e"
             ],
             [
              0.4444444444444444,
              "#bd3786"
             ],
             [
              0.5555555555555556,
              "#d8576b"
             ],
             [
              0.6666666666666666,
              "#ed7953"
             ],
             [
              0.7777777777777778,
              "#fb9f3a"
             ],
             [
              0.8888888888888888,
              "#fdca26"
             ],
             [
              1,
              "#f0f921"
             ]
            ],
            "type": "heatmap"
           }
          ],
          "heatmapgl": [
           {
            "colorbar": {
             "outlinewidth": 0,
             "ticks": ""
            },
            "colorscale": [
             [
              0,
              "#0d0887"
             ],
             [
              0.1111111111111111,
              "#46039f"
             ],
             [
              0.2222222222222222,
              "#7201a8"
             ],
             [
              0.3333333333333333,
              "#9c179e"
             ],
             [
              0.4444444444444444,
              "#bd3786"
             ],
             [
              0.5555555555555556,
              "#d8576b"
             ],
             [
              0.6666666666666666,
              "#ed7953"
             ],
             [
              0.7777777777777778,
              "#fb9f3a"
             ],
             [
              0.8888888888888888,
              "#fdca26"
             ],
             [
              1,
              "#f0f921"
             ]
            ],
            "type": "heatmapgl"
           }
          ],
          "histogram": [
           {
            "marker": {
             "pattern": {
              "fillmode": "overlay",
              "size": 10,
              "solidity": 0.2
             }
            },
            "type": "histogram"
           }
          ],
          "histogram2d": [
           {
            "colorbar": {
             "outlinewidth": 0,
             "ticks": ""
            },
            "colorscale": [
             [
              0,
              "#0d0887"
             ],
             [
              0.1111111111111111,
              "#46039f"
             ],
             [
              0.2222222222222222,
              "#7201a8"
             ],
             [
              0.3333333333333333,
              "#9c179e"
             ],
             [
              0.4444444444444444,
              "#bd3786"
             ],
             [
              0.5555555555555556,
              "#d8576b"
             ],
             [
              0.6666666666666666,
              "#ed7953"
             ],
             [
              0.7777777777777778,
              "#fb9f3a"
             ],
             [
              0.8888888888888888,
              "#fdca26"
             ],
             [
              1,
              "#f0f921"
             ]
            ],
            "type": "histogram2d"
           }
          ],
          "histogram2dcontour": [
           {
            "colorbar": {
             "outlinewidth": 0,
             "ticks": ""
            },
            "colorscale": [
             [
              0,
              "#0d0887"
             ],
             [
              0.1111111111111111,
              "#46039f"
             ],
             [
              0.2222222222222222,
              "#7201a8"
             ],
             [
              0.3333333333333333,
              "#9c179e"
             ],
             [
              0.4444444444444444,
              "#bd3786"
             ],
             [
              0.5555555555555556,
              "#d8576b"
             ],
             [
              0.6666666666666666,
              "#ed7953"
             ],
             [
              0.7777777777777778,
              "#fb9f3a"
             ],
             [
              0.8888888888888888,
              "#fdca26"
             ],
             [
              1,
              "#f0f921"
             ]
            ],
            "type": "histogram2dcontour"
           }
          ],
          "mesh3d": [
           {
            "colorbar": {
             "outlinewidth": 0,
             "ticks": ""
            },
            "type": "mesh3d"
           }
          ],
          "parcoords": [
           {
            "line": {
             "colorbar": {
              "outlinewidth": 0,
              "ticks": ""
             }
            },
            "type": "parcoords"
           }
          ],
          "pie": [
           {
            "automargin": true,
            "type": "pie"
           }
          ],
          "scatter": [
           {
            "fillpattern": {
             "fillmode": "overlay",
             "size": 10,
             "solidity": 0.2
            },
            "type": "scatter"
           }
          ],
          "scatter3d": [
           {
            "line": {
             "colorbar": {
              "outlinewidth": 0,
              "ticks": ""
             }
            },
            "marker": {
             "colorbar": {
              "outlinewidth": 0,
              "ticks": ""
             }
            },
            "type": "scatter3d"
           }
          ],
          "scattercarpet": [
           {
            "marker": {
             "colorbar": {
              "outlinewidth": 0,
              "ticks": ""
             }
            },
            "type": "scattercarpet"
           }
          ],
          "scattergeo": [
           {
            "marker": {
             "colorbar": {
              "outlinewidth": 0,
              "ticks": ""
             }
            },
            "type": "scattergeo"
           }
          ],
          "scattergl": [
           {
            "marker": {
             "colorbar": {
              "outlinewidth": 0,
              "ticks": ""
             }
            },
            "type": "scattergl"
           }
          ],
          "scattermapbox": [
           {
            "marker": {
             "colorbar": {
              "outlinewidth": 0,
              "ticks": ""
             }
            },
            "type": "scattermapbox"
           }
          ],
          "scatterpolar": [
           {
            "marker": {
             "colorbar": {
              "outlinewidth": 0,
              "ticks": ""
             }
            },
            "type": "scatterpolar"
           }
          ],
          "scatterpolargl": [
           {
            "marker": {
             "colorbar": {
              "outlinewidth": 0,
              "ticks": ""
             }
            },
            "type": "scatterpolargl"
           }
          ],
          "scatterternary": [
           {
            "marker": {
             "colorbar": {
              "outlinewidth": 0,
              "ticks": ""
             }
            },
            "type": "scatterternary"
           }
          ],
          "surface": [
           {
            "colorbar": {
             "outlinewidth": 0,
             "ticks": ""
            },
            "colorscale": [
             [
              0,
              "#0d0887"
             ],
             [
              0.1111111111111111,
              "#46039f"
             ],
             [
              0.2222222222222222,
              "#7201a8"
             ],
             [
              0.3333333333333333,
              "#9c179e"
             ],
             [
              0.4444444444444444,
              "#bd3786"
             ],
             [
              0.5555555555555556,
              "#d8576b"
             ],
             [
              0.6666666666666666,
              "#ed7953"
             ],
             [
              0.7777777777777778,
              "#fb9f3a"
             ],
             [
              0.8888888888888888,
              "#fdca26"
             ],
             [
              1,
              "#f0f921"
             ]
            ],
            "type": "surface"
           }
          ],
          "table": [
           {
            "cells": {
             "fill": {
              "color": "#EBF0F8"
             },
             "line": {
              "color": "white"
             }
            },
            "header": {
             "fill": {
              "color": "#C8D4E3"
             },
             "line": {
              "color": "white"
             }
            },
            "type": "table"
           }
          ]
         },
         "layout": {
          "annotationdefaults": {
           "arrowcolor": "#2a3f5f",
           "arrowhead": 0,
           "arrowwidth": 1
          },
          "autotypenumbers": "strict",
          "coloraxis": {
           "colorbar": {
            "outlinewidth": 0,
            "ticks": ""
           }
          },
          "colorscale": {
           "diverging": [
            [
             0,
             "#8e0152"
            ],
            [
             0.1,
             "#c51b7d"
            ],
            [
             0.2,
             "#de77ae"
            ],
            [
             0.3,
             "#f1b6da"
            ],
            [
             0.4,
             "#fde0ef"
            ],
            [
             0.5,
             "#f7f7f7"
            ],
            [
             0.6,
             "#e6f5d0"
            ],
            [
             0.7,
             "#b8e186"
            ],
            [
             0.8,
             "#7fbc41"
            ],
            [
             0.9,
             "#4d9221"
            ],
            [
             1,
             "#276419"
            ]
           ],
           "sequential": [
            [
             0,
             "#0d0887"
            ],
            [
             0.1111111111111111,
             "#46039f"
            ],
            [
             0.2222222222222222,
             "#7201a8"
            ],
            [
             0.3333333333333333,
             "#9c179e"
            ],
            [
             0.4444444444444444,
             "#bd3786"
            ],
            [
             0.5555555555555556,
             "#d8576b"
            ],
            [
             0.6666666666666666,
             "#ed7953"
            ],
            [
             0.7777777777777778,
             "#fb9f3a"
            ],
            [
             0.8888888888888888,
             "#fdca26"
            ],
            [
             1,
             "#f0f921"
            ]
           ],
           "sequentialminus": [
            [
             0,
             "#0d0887"
            ],
            [
             0.1111111111111111,
             "#46039f"
            ],
            [
             0.2222222222222222,
             "#7201a8"
            ],
            [
             0.3333333333333333,
             "#9c179e"
            ],
            [
             0.4444444444444444,
             "#bd3786"
            ],
            [
             0.5555555555555556,
             "#d8576b"
            ],
            [
             0.6666666666666666,
             "#ed7953"
            ],
            [
             0.7777777777777778,
             "#fb9f3a"
            ],
            [
             0.8888888888888888,
             "#fdca26"
            ],
            [
             1,
             "#f0f921"
            ]
           ]
          },
          "colorway": [
           "#636efa",
           "#EF553B",
           "#00cc96",
           "#ab63fa",
           "#FFA15A",
           "#19d3f3",
           "#FF6692",
           "#B6E880",
           "#FF97FF",
           "#FECB52"
          ],
          "font": {
           "color": "#2a3f5f"
          },
          "geo": {
           "bgcolor": "white",
           "lakecolor": "white",
           "landcolor": "#E5ECF6",
           "showlakes": true,
           "showland": true,
           "subunitcolor": "white"
          },
          "hoverlabel": {
           "align": "left"
          },
          "hovermode": "closest",
          "mapbox": {
           "style": "light"
          },
          "paper_bgcolor": "white",
          "plot_bgcolor": "#E5ECF6",
          "polar": {
           "angularaxis": {
            "gridcolor": "white",
            "linecolor": "white",
            "ticks": ""
           },
           "bgcolor": "#E5ECF6",
           "radialaxis": {
            "gridcolor": "white",
            "linecolor": "white",
            "ticks": ""
           }
          },
          "scene": {
           "xaxis": {
            "backgroundcolor": "#E5ECF6",
            "gridcolor": "white",
            "gridwidth": 2,
            "linecolor": "white",
            "showbackground": true,
            "ticks": "",
            "zerolinecolor": "white"
           },
           "yaxis": {
            "backgroundcolor": "#E5ECF6",
            "gridcolor": "white",
            "gridwidth": 2,
            "linecolor": "white",
            "showbackground": true,
            "ticks": "",
            "zerolinecolor": "white"
           },
           "zaxis": {
            "backgroundcolor": "#E5ECF6",
            "gridcolor": "white",
            "gridwidth": 2,
            "linecolor": "white",
            "showbackground": true,
            "ticks": "",
            "zerolinecolor": "white"
           }
          },
          "shapedefaults": {
           "line": {
            "color": "#2a3f5f"
           }
          },
          "ternary": {
           "aaxis": {
            "gridcolor": "white",
            "linecolor": "white",
            "ticks": ""
           },
           "baxis": {
            "gridcolor": "white",
            "linecolor": "white",
            "ticks": ""
           },
           "bgcolor": "#E5ECF6",
           "caxis": {
            "gridcolor": "white",
            "linecolor": "white",
            "ticks": ""
           }
          },
          "title": {
           "x": 0.05
          },
          "xaxis": {
           "automargin": true,
           "gridcolor": "white",
           "linecolor": "white",
           "ticks": "",
           "title": {
            "standoff": 15
           },
           "zerolinecolor": "white",
           "zerolinewidth": 2
          },
          "yaxis": {
           "automargin": true,
           "gridcolor": "white",
           "linecolor": "white",
           "ticks": "",
           "title": {
            "standoff": 15
           },
           "zerolinecolor": "white",
           "zerolinewidth": 2
          }
         }
        },
        "violinmode": "overlay",
        "xaxis": {
         "anchor": "y",
         "categoryarray": [
          0,
          1
         ],
         "categoryorder": "array",
         "domain": [
          0,
          1
         ],
         "title": {
          "text": "Class"
         }
        },
        "yaxis": {
         "anchor": "x",
         "domain": [
          0,
          1
         ],
         "title": {
          "text": "V23"
         }
        }
       }
      },
      "text/html": [
       "<div>                        <script type=\"text/javascript\">window.PlotlyConfig = {MathJaxConfig: 'local'};</script>\n",
       "        <script charset=\"utf-8\" src=\"https://cdn.plot.ly/plotly-2.35.0.min.js\"></script>                <div id=\"6c7514af-2c44-4332-ab3f-62b3986ea859\" class=\"plotly-graph-div\" style=\"height:100%; width:100%;\"></div>            <script type=\"text/javascript\">                                    window.PLOTLYENV=window.PLOTLYENV || {};                                    if (document.getElementById(\"6c7514af-2c44-4332-ab3f-62b3986ea859\")) {                    Plotly.newPlot(                        \"6c7514af-2c44-4332-ab3f-62b3986ea859\",                        [{\"alignmentgroup\":\"True\",\"box\":{\"visible\":true},\"customdata\":[[0.118617283950617,0.0310123456790123,0.0401975308641975],[0.0750769230769231,0.0076923076923076,0.0209230769230769],[0.0054915785350568,0.0102702702702703,0.0140853897375637],[8.65800865800866e-05,0.0119480519480519,0.0074747474747474],[0.0,0.0127272727272727,0.080625],[0.0,0.0423275862068965,0.0223275862068965],[0.0,0.0060714285714285,0.0041326530612244],[0.0147222222222222,0.0130555555555556,0.0147222222222222],[0.156388888888889,0.0105555555555556,0.0172222222222222],[0.0504166666666667,0.0220833333333333,0.024375],[0.0158024691358025,0.0128395061728395,0.0158024691358025],[0.015,0.0145714285714286,0.0111428571428571],[0.0438,0.0091,0.0103],[0.0476388888888889,0.0120833333333333,0.0176388888888889],[0.0116296296296296,0.0156296296296296,0.0114814814814815],[0.2,0.0102479338842975,0.0581818181818182],[0.01625,0.0096153846153846,0.015],[0.114545454545455,0.018,0.0509090909090909],[0.0,0.01,0.0164],[0.0016666666666666,0.0073611111111111,0.0259027777777778],[0.752,0.0008,0.0008],[0.14875,0.01,0.004375],[0.0288888888888889,0.0111111111111111,0.0],[0.257428571428571,0.008,0.0051428571428571],[0.107111111111111,0.0235555555555556,0.0711111111111111],[0.0,0.0826666666666667,0.0],[0.0,0.497843790012804,0.0205377720870679],[0.0,0.0101604278074866,0.0393048128342246],[0.0006,0.0242,0.1413],[0.0006616541353383,0.0269473684210526,0.0628571428571429],[5.35714285714286e-05,0.0110357142857143,0.0046964285714285],[0.0,0.226003898635478,0.041598440545809],[0.0,0.0269,0.0291],[0.172864864864865,0.0116756756756757,0.0],[0.0,0.0028888888888888,0.002],[0.004,0.00175,0.001],[0.0018668831168831,0.0074756493506493,0.0074675324675324],[0.0649565217391304,0.0054782608695652,0.0150434782608696],[0.192,0.0149333333333333,0.072],[0.0277333333333333,0.0120888888888889,0.0245333333333333],[0.0478571428571429,0.0047619047619047,0.0073809523809523],[0.0738181818181818,0.0054545454545454,0.0034545454545454],[0.209876543209877,0.0039506172839506,0.0091358024691358],[0.187755102040816,0.0187755102040816,0.0028571428571428],[0.166481481481481,0.0056481481481481,0.0012962962962963],[0.01,0.0141025641025641,0.0384615384615385],[0.009295238095238,0.0138666666666667,0.122209523809524],[0.0014714285714285,0.0412428571428571,0.0370857142857143],[0.0051388888888888,0.0058333333333333,0.0029166666666666],[0.0,0.326923076923077,0.0144230769230769],[0.00176,0.01488,0.02048],[0.0384615384615385,0.0086538461538461,0.0203846153846154],[0.012967032967033,0.0243956043956044,0.0123076923076923],[0.008099173553719,0.0121487603305785,0.0322314049586777]],\"hovertemplate\":\"Class=%{x}\\u003cbr\\u003eV23=%{y}\\u003cbr\\u003eV2=%{customdata[0]}\\u003cbr\\u003eV44=%{customdata[1]}\\u003cbr\\u003eV65=%{customdata[2]}\\u003cextra\\u003e\\u003c\\u002fextra\\u003e\",\"legendgroup\":\"0\",\"marker\":{\"color\":\"#636efa\"},\"name\":\"0\",\"offsetgroup\":\"0\",\"orientation\":\"v\",\"points\":\"all\",\"scalegroup\":\"True\",\"showlegend\":true,\"x\":[0,0,0,0,0,0,0,0,0,0,0,0,0,0,0,0,0,0,0,0,0,0,0,0,0,0,0,0,0,0,0,0,0,0,0,0,0,0,0,0,0,0,0,0,0,0,0,0,0,0,0,0,0,0],\"x0\":\" \",\"xaxis\":\"x\",\"y\":[0.810172839506173,0.896307692307692,0.970152761457109,0.980490620490621,0.906647727272727,0.935344827586207,0.989795918367347,0.9575,0.815833333333333,0.903125,0.955555555555556,0.959285714285714,0.9368,0.922638888888889,0.961259259259259,0.731570247933884,0.959134615384615,0.816545454545454,0.9736,0.965069444444444,0.2464,0.836875,0.96,0.729428571428572,0.798222222222222,0.917333333333333,0.481618437900128,0.950534759358289,0.8339,0.909533834586466,0.984214285714286,0.732397660818713,0.944,0.815459459459459,0.995111111111111,0.99325,0.983189935064935,0.914521739130435,0.721066666666667,0.935644444444445,0.94,0.917272727272727,0.777037037037037,0.790612244897959,0.826574074074074,0.937435897435897,0.854628571428571,0.9202,0.986111111111111,0.658653846153846,0.96288,0.9325,0.95032967032967,0.947520661157025],\"y0\":\" \",\"yaxis\":\"y\",\"type\":\"violin\"},{\"alignmentgroup\":\"True\",\"box\":{\"visible\":true},\"customdata\":[[0.711466666666667,0.0081777777777777,0.0197333333333333],[0.661030176899064,0.0117065556711759,0.0052029136316337],[0.883964296706679,0.0006155740227762,0.0],[0.754756242568371,0.0014863258026159,0.0],[0.752047502047502,0.0026617526617526,0.0],[0.509855769230769,0.0009615384615384,0.0],[0.681725681725682,0.0023402523402523,0.0],[0.8248,0.0004,0.0],[0.78265306122449,0.0044897959183673,0.0018367346938775],[0.294320987654321,0.0050617283950617,0.0034567901234567],[0.0102118579484835,0.0051821368693796,0.0001524157902758],[0.874464285714286,0.0046428571428571,0.0016071428571428],[0.648820512820513,0.0043076923076923,0.0],[0.0023931623931623,0.0068376068376068,0.0075213675213675],[0.61,0.01,0.0133333333333333],[0.860185185185185,0.0046296296296296,0.0],[0.381414141414141,0.0,0.0],[0.592,0.0062857142857142,0.001],[0.712638888888889,0.0005555555555555,0.0],[0.5825,0.00175,0.0],[0.904,0.0017142857142857,0.0],[0.6052,0.0008,0.0],[0.924722222222222,0.0019444444444444,0.0],[0.922545454545454,0.0032727272727272,0.0003636363636363],[0.2096,0.0012,0.0],[0.23952380952381,0.0078571428571428,0.0016666666666666]],\"hovertemplate\":\"Class=%{x}\\u003cbr\\u003eV23=%{y}\\u003cbr\\u003eV2=%{customdata[0]}\\u003cbr\\u003eV44=%{customdata[1]}\\u003cbr\\u003eV65=%{customdata[2]}\\u003cextra\\u003e\\u003c\\u002fextra\\u003e\",\"legendgroup\":\"1\",\"marker\":{\"color\":\"#EF553B\"},\"name\":\"1\",\"offsetgroup\":\"1\",\"orientation\":\"v\",\"points\":\"all\",\"scalegroup\":\"True\",\"showlegend\":true,\"x\":[1,1,1,1,1,1,1,1,1,1,1,1,1,1,1,1,1,1,1,1,1,1,1,1,1,1],\"x0\":\" \",\"xaxis\":\"x\",\"y\":[0.260622222222222,0.322060353798127,0.115420129270545,0.243757431629013,0.245290745290745,0.489182692307692,0.315934065934066,0.1748,0.211020408163265,0.69716049382716,0.984453589391861,0.119285714285714,0.346871794871795,0.983247863247863,0.366666666666667,0.135185185185185,0.618585858585859,0.400714285714286,0.286805555555556,0.41575,0.0942857142857143,0.394,0.0733333333333333,0.0738181818181818,0.7892,0.750952380952381],\"y0\":\" \",\"yaxis\":\"y\",\"type\":\"violin\"}],                        {\"template\":{\"data\":{\"histogram2dcontour\":[{\"type\":\"histogram2dcontour\",\"colorbar\":{\"outlinewidth\":0,\"ticks\":\"\"},\"colorscale\":[[0.0,\"#0d0887\"],[0.1111111111111111,\"#46039f\"],[0.2222222222222222,\"#7201a8\"],[0.3333333333333333,\"#9c179e\"],[0.4444444444444444,\"#bd3786\"],[0.5555555555555556,\"#d8576b\"],[0.6666666666666666,\"#ed7953\"],[0.7777777777777778,\"#fb9f3a\"],[0.8888888888888888,\"#fdca26\"],[1.0,\"#f0f921\"]]}],\"choropleth\":[{\"type\":\"choropleth\",\"colorbar\":{\"outlinewidth\":0,\"ticks\":\"\"}}],\"histogram2d\":[{\"type\":\"histogram2d\",\"colorbar\":{\"outlinewidth\":0,\"ticks\":\"\"},\"colorscale\":[[0.0,\"#0d0887\"],[0.1111111111111111,\"#46039f\"],[0.2222222222222222,\"#7201a8\"],[0.3333333333333333,\"#9c179e\"],[0.4444444444444444,\"#bd3786\"],[0.5555555555555556,\"#d8576b\"],[0.6666666666666666,\"#ed7953\"],[0.7777777777777778,\"#fb9f3a\"],[0.8888888888888888,\"#fdca26\"],[1.0,\"#f0f921\"]]}],\"heatmap\":[{\"type\":\"heatmap\",\"colorbar\":{\"outlinewidth\":0,\"ticks\":\"\"},\"colorscale\":[[0.0,\"#0d0887\"],[0.1111111111111111,\"#46039f\"],[0.2222222222222222,\"#7201a8\"],[0.3333333333333333,\"#9c179e\"],[0.4444444444444444,\"#bd3786\"],[0.5555555555555556,\"#d8576b\"],[0.6666666666666666,\"#ed7953\"],[0.7777777777777778,\"#fb9f3a\"],[0.8888888888888888,\"#fdca26\"],[1.0,\"#f0f921\"]]}],\"heatmapgl\":[{\"type\":\"heatmapgl\",\"colorbar\":{\"outlinewidth\":0,\"ticks\":\"\"},\"colorscale\":[[0.0,\"#0d0887\"],[0.1111111111111111,\"#46039f\"],[0.2222222222222222,\"#7201a8\"],[0.3333333333333333,\"#9c179e\"],[0.4444444444444444,\"#bd3786\"],[0.5555555555555556,\"#d8576b\"],[0.6666666666666666,\"#ed7953\"],[0.7777777777777778,\"#fb9f3a\"],[0.8888888888888888,\"#fdca26\"],[1.0,\"#f0f921\"]]}],\"contourcarpet\":[{\"type\":\"contourcarpet\",\"colorbar\":{\"outlinewidth\":0,\"ticks\":\"\"}}],\"contour\":[{\"type\":\"contour\",\"colorbar\":{\"outlinewidth\":0,\"ticks\":\"\"},\"colorscale\":[[0.0,\"#0d0887\"],[0.1111111111111111,\"#46039f\"],[0.2222222222222222,\"#7201a8\"],[0.3333333333333333,\"#9c179e\"],[0.4444444444444444,\"#bd3786\"],[0.5555555555555556,\"#d8576b\"],[0.6666666666666666,\"#ed7953\"],[0.7777777777777778,\"#fb9f3a\"],[0.8888888888888888,\"#fdca26\"],[1.0,\"#f0f921\"]]}],\"surface\":[{\"type\":\"surface\",\"colorbar\":{\"outlinewidth\":0,\"ticks\":\"\"},\"colorscale\":[[0.0,\"#0d0887\"],[0.1111111111111111,\"#46039f\"],[0.2222222222222222,\"#7201a8\"],[0.3333333333333333,\"#9c179e\"],[0.4444444444444444,\"#bd3786\"],[0.5555555555555556,\"#d8576b\"],[0.6666666666666666,\"#ed7953\"],[0.7777777777777778,\"#fb9f3a\"],[0.8888888888888888,\"#fdca26\"],[1.0,\"#f0f921\"]]}],\"mesh3d\":[{\"type\":\"mesh3d\",\"colorbar\":{\"outlinewidth\":0,\"ticks\":\"\"}}],\"scatter\":[{\"fillpattern\":{\"fillmode\":\"overlay\",\"size\":10,\"solidity\":0.2},\"type\":\"scatter\"}],\"parcoords\":[{\"type\":\"parcoords\",\"line\":{\"colorbar\":{\"outlinewidth\":0,\"ticks\":\"\"}}}],\"scatterpolargl\":[{\"type\":\"scatterpolargl\",\"marker\":{\"colorbar\":{\"outlinewidth\":0,\"ticks\":\"\"}}}],\"bar\":[{\"error_x\":{\"color\":\"#2a3f5f\"},\"error_y\":{\"color\":\"#2a3f5f\"},\"marker\":{\"line\":{\"color\":\"#E5ECF6\",\"width\":0.5},\"pattern\":{\"fillmode\":\"overlay\",\"size\":10,\"solidity\":0.2}},\"type\":\"bar\"}],\"scattergeo\":[{\"type\":\"scattergeo\",\"marker\":{\"colorbar\":{\"outlinewidth\":0,\"ticks\":\"\"}}}],\"scatterpolar\":[{\"type\":\"scatterpolar\",\"marker\":{\"colorbar\":{\"outlinewidth\":0,\"ticks\":\"\"}}}],\"histogram\":[{\"marker\":{\"pattern\":{\"fillmode\":\"overlay\",\"size\":10,\"solidity\":0.2}},\"type\":\"histogram\"}],\"scattergl\":[{\"type\":\"scattergl\",\"marker\":{\"colorbar\":{\"outlinewidth\":0,\"ticks\":\"\"}}}],\"scatter3d\":[{\"type\":\"scatter3d\",\"line\":{\"colorbar\":{\"outlinewidth\":0,\"ticks\":\"\"}},\"marker\":{\"colorbar\":{\"outlinewidth\":0,\"ticks\":\"\"}}}],\"scattermapbox\":[{\"type\":\"scattermapbox\",\"marker\":{\"colorbar\":{\"outlinewidth\":0,\"ticks\":\"\"}}}],\"scatterternary\":[{\"type\":\"scatterternary\",\"marker\":{\"colorbar\":{\"outlinewidth\":0,\"ticks\":\"\"}}}],\"scattercarpet\":[{\"type\":\"scattercarpet\",\"marker\":{\"colorbar\":{\"outlinewidth\":0,\"ticks\":\"\"}}}],\"carpet\":[{\"aaxis\":{\"endlinecolor\":\"#2a3f5f\",\"gridcolor\":\"white\",\"linecolor\":\"white\",\"minorgridcolor\":\"white\",\"startlinecolor\":\"#2a3f5f\"},\"baxis\":{\"endlinecolor\":\"#2a3f5f\",\"gridcolor\":\"white\",\"linecolor\":\"white\",\"minorgridcolor\":\"white\",\"startlinecolor\":\"#2a3f5f\"},\"type\":\"carpet\"}],\"table\":[{\"cells\":{\"fill\":{\"color\":\"#EBF0F8\"},\"line\":{\"color\":\"white\"}},\"header\":{\"fill\":{\"color\":\"#C8D4E3\"},\"line\":{\"color\":\"white\"}},\"type\":\"table\"}],\"barpolar\":[{\"marker\":{\"line\":{\"color\":\"#E5ECF6\",\"width\":0.5},\"pattern\":{\"fillmode\":\"overlay\",\"size\":10,\"solidity\":0.2}},\"type\":\"barpolar\"}],\"pie\":[{\"automargin\":true,\"type\":\"pie\"}]},\"layout\":{\"autotypenumbers\":\"strict\",\"colorway\":[\"#636efa\",\"#EF553B\",\"#00cc96\",\"#ab63fa\",\"#FFA15A\",\"#19d3f3\",\"#FF6692\",\"#B6E880\",\"#FF97FF\",\"#FECB52\"],\"font\":{\"color\":\"#2a3f5f\"},\"hovermode\":\"closest\",\"hoverlabel\":{\"align\":\"left\"},\"paper_bgcolor\":\"white\",\"plot_bgcolor\":\"#E5ECF6\",\"polar\":{\"bgcolor\":\"#E5ECF6\",\"angularaxis\":{\"gridcolor\":\"white\",\"linecolor\":\"white\",\"ticks\":\"\"},\"radialaxis\":{\"gridcolor\":\"white\",\"linecolor\":\"white\",\"ticks\":\"\"}},\"ternary\":{\"bgcolor\":\"#E5ECF6\",\"aaxis\":{\"gridcolor\":\"white\",\"linecolor\":\"white\",\"ticks\":\"\"},\"baxis\":{\"gridcolor\":\"white\",\"linecolor\":\"white\",\"ticks\":\"\"},\"caxis\":{\"gridcolor\":\"white\",\"linecolor\":\"white\",\"ticks\":\"\"}},\"coloraxis\":{\"colorbar\":{\"outlinewidth\":0,\"ticks\":\"\"}},\"colorscale\":{\"sequential\":[[0.0,\"#0d0887\"],[0.1111111111111111,\"#46039f\"],[0.2222222222222222,\"#7201a8\"],[0.3333333333333333,\"#9c179e\"],[0.4444444444444444,\"#bd3786\"],[0.5555555555555556,\"#d8576b\"],[0.6666666666666666,\"#ed7953\"],[0.7777777777777778,\"#fb9f3a\"],[0.8888888888888888,\"#fdca26\"],[1.0,\"#f0f921\"]],\"sequentialminus\":[[0.0,\"#0d0887\"],[0.1111111111111111,\"#46039f\"],[0.2222222222222222,\"#7201a8\"],[0.3333333333333333,\"#9c179e\"],[0.4444444444444444,\"#bd3786\"],[0.5555555555555556,\"#d8576b\"],[0.6666666666666666,\"#ed7953\"],[0.7777777777777778,\"#fb9f3a\"],[0.8888888888888888,\"#fdca26\"],[1.0,\"#f0f921\"]],\"diverging\":[[0,\"#8e0152\"],[0.1,\"#c51b7d\"],[0.2,\"#de77ae\"],[0.3,\"#f1b6da\"],[0.4,\"#fde0ef\"],[0.5,\"#f7f7f7\"],[0.6,\"#e6f5d0\"],[0.7,\"#b8e186\"],[0.8,\"#7fbc41\"],[0.9,\"#4d9221\"],[1,\"#276419\"]]},\"xaxis\":{\"gridcolor\":\"white\",\"linecolor\":\"white\",\"ticks\":\"\",\"title\":{\"standoff\":15},\"zerolinecolor\":\"white\",\"automargin\":true,\"zerolinewidth\":2},\"yaxis\":{\"gridcolor\":\"white\",\"linecolor\":\"white\",\"ticks\":\"\",\"title\":{\"standoff\":15},\"zerolinecolor\":\"white\",\"automargin\":true,\"zerolinewidth\":2},\"scene\":{\"xaxis\":{\"backgroundcolor\":\"#E5ECF6\",\"gridcolor\":\"white\",\"linecolor\":\"white\",\"showbackground\":true,\"ticks\":\"\",\"zerolinecolor\":\"white\",\"gridwidth\":2},\"yaxis\":{\"backgroundcolor\":\"#E5ECF6\",\"gridcolor\":\"white\",\"linecolor\":\"white\",\"showbackground\":true,\"ticks\":\"\",\"zerolinecolor\":\"white\",\"gridwidth\":2},\"zaxis\":{\"backgroundcolor\":\"#E5ECF6\",\"gridcolor\":\"white\",\"linecolor\":\"white\",\"showbackground\":true,\"ticks\":\"\",\"zerolinecolor\":\"white\",\"gridwidth\":2}},\"shapedefaults\":{\"line\":{\"color\":\"#2a3f5f\"}},\"annotationdefaults\":{\"arrowcolor\":\"#2a3f5f\",\"arrowhead\":0,\"arrowwidth\":1},\"geo\":{\"bgcolor\":\"white\",\"landcolor\":\"#E5ECF6\",\"subunitcolor\":\"white\",\"showland\":true,\"showlakes\":true,\"lakecolor\":\"white\"},\"title\":{\"x\":0.05},\"mapbox\":{\"style\":\"light\"}}},\"xaxis\":{\"anchor\":\"y\",\"domain\":[0.0,1.0],\"title\":{\"text\":\"Class\"},\"categoryorder\":\"array\",\"categoryarray\":[0,1]},\"yaxis\":{\"anchor\":\"x\",\"domain\":[0.0,1.0],\"title\":{\"text\":\"V23\"}},\"legend\":{\"title\":{\"text\":\"Class\"},\"tracegroupgap\":0},\"margin\":{\"t\":60},\"violinmode\":\"overlay\"},                        {\"responsive\": true}                    )                };                            </script>        </div>"
      ],
      "text/plain": [
       "Figure({\n",
       "    'data': [{'alignmentgroup': 'True',\n",
       "              'box': {'visible': True},\n",
       "              'customdata': array([[1.18617284e-01, 3.10123457e-02, 4.01975309e-02],\n",
       "                                   [7.50769231e-02, 7.69230769e-03, 2.09230769e-02],\n",
       "                                   [5.49157854e-03, 1.02702703e-02, 1.40853897e-02],\n",
       "                                   [8.65800866e-05, 1.19480519e-02, 7.47474747e-03],\n",
       "                                   [0.00000000e+00, 1.27272727e-02, 8.06250000e-02],\n",
       "                                   [0.00000000e+00, 4.23275862e-02, 2.23275862e-02],\n",
       "                                   [0.00000000e+00, 6.07142857e-03, 4.13265306e-03],\n",
       "                                   [1.47222222e-02, 1.30555556e-02, 1.47222222e-02],\n",
       "                                   [1.56388889e-01, 1.05555556e-02, 1.72222222e-02],\n",
       "                                   [5.04166667e-02, 2.20833333e-02, 2.43750000e-02],\n",
       "                                   [1.58024691e-02, 1.28395062e-02, 1.58024691e-02],\n",
       "                                   [1.50000000e-02, 1.45714286e-02, 1.11428571e-02],\n",
       "                                   [4.38000000e-02, 9.10000000e-03, 1.03000000e-02],\n",
       "                                   [4.76388889e-02, 1.20833333e-02, 1.76388889e-02],\n",
       "                                   [1.16296296e-02, 1.56296296e-02, 1.14814815e-02],\n",
       "                                   [2.00000000e-01, 1.02479339e-02, 5.81818182e-02],\n",
       "                                   [1.62500000e-02, 9.61538462e-03, 1.50000000e-02],\n",
       "                                   [1.14545455e-01, 1.80000000e-02, 5.09090909e-02],\n",
       "                                   [0.00000000e+00, 1.00000000e-02, 1.64000000e-02],\n",
       "                                   [1.66666667e-03, 7.36111111e-03, 2.59027778e-02],\n",
       "                                   [7.52000000e-01, 8.00000000e-04, 8.00000000e-04],\n",
       "                                   [1.48750000e-01, 1.00000000e-02, 4.37500000e-03],\n",
       "                                   [2.88888889e-02, 1.11111111e-02, 0.00000000e+00],\n",
       "                                   [2.57428571e-01, 8.00000000e-03, 5.14285714e-03],\n",
       "                                   [1.07111111e-01, 2.35555556e-02, 7.11111111e-02],\n",
       "                                   [0.00000000e+00, 8.26666667e-02, 0.00000000e+00],\n",
       "                                   [0.00000000e+00, 4.97843790e-01, 2.05377721e-02],\n",
       "                                   [0.00000000e+00, 1.01604278e-02, 3.93048128e-02],\n",
       "                                   [6.00000000e-04, 2.42000000e-02, 1.41300000e-01],\n",
       "                                   [6.61654135e-04, 2.69473684e-02, 6.28571429e-02],\n",
       "                                   [5.35714286e-05, 1.10357143e-02, 4.69642857e-03],\n",
       "                                   [0.00000000e+00, 2.26003899e-01, 4.15984405e-02],\n",
       "                                   [0.00000000e+00, 2.69000000e-02, 2.91000000e-02],\n",
       "                                   [1.72864865e-01, 1.16756757e-02, 0.00000000e+00],\n",
       "                                   [0.00000000e+00, 2.88888889e-03, 2.00000000e-03],\n",
       "                                   [4.00000000e-03, 1.75000000e-03, 1.00000000e-03],\n",
       "                                   [1.86688312e-03, 7.47564935e-03, 7.46753247e-03],\n",
       "                                   [6.49565217e-02, 5.47826087e-03, 1.50434783e-02],\n",
       "                                   [1.92000000e-01, 1.49333333e-02, 7.20000000e-02],\n",
       "                                   [2.77333333e-02, 1.20888889e-02, 2.45333333e-02],\n",
       "                                   [4.78571429e-02, 4.76190476e-03, 7.38095238e-03],\n",
       "                                   [7.38181818e-02, 5.45454545e-03, 3.45454545e-03],\n",
       "                                   [2.09876543e-01, 3.95061728e-03, 9.13580247e-03],\n",
       "                                   [1.87755102e-01, 1.87755102e-02, 2.85714286e-03],\n",
       "                                   [1.66481481e-01, 5.64814815e-03, 1.29629630e-03],\n",
       "                                   [1.00000000e-02, 1.41025641e-02, 3.84615385e-02],\n",
       "                                   [9.29523810e-03, 1.38666667e-02, 1.22209524e-01],\n",
       "                                   [1.47142857e-03, 4.12428571e-02, 3.70857143e-02],\n",
       "                                   [5.13888889e-03, 5.83333333e-03, 2.91666667e-03],\n",
       "                                   [0.00000000e+00, 3.26923077e-01, 1.44230769e-02],\n",
       "                                   [1.76000000e-03, 1.48800000e-02, 2.04800000e-02],\n",
       "                                   [3.84615385e-02, 8.65384615e-03, 2.03846154e-02],\n",
       "                                   [1.29670330e-02, 2.43956044e-02, 1.23076923e-02],\n",
       "                                   [8.09917355e-03, 1.21487603e-02, 3.22314050e-02]]),\n",
       "              'hovertemplate': ('Class=%{x}<br>V23=%{y}<br>V2=%' ... '{customdata[2]}<extra></extra>'),\n",
       "              'legendgroup': '0',\n",
       "              'marker': {'color': '#636efa'},\n",
       "              'name': '0',\n",
       "              'offsetgroup': '0',\n",
       "              'orientation': 'v',\n",
       "              'points': 'all',\n",
       "              'scalegroup': 'True',\n",
       "              'showlegend': True,\n",
       "              'type': 'violin',\n",
       "              'x': array([0, 0, 0, 0, 0, 0, 0, 0, 0, 0, 0, 0, 0, 0, 0, 0, 0, 0, 0, 0, 0, 0, 0, 0,\n",
       "                          0, 0, 0, 0, 0, 0, 0, 0, 0, 0, 0, 0, 0, 0, 0, 0, 0, 0, 0, 0, 0, 0, 0, 0,\n",
       "                          0, 0, 0, 0, 0, 0]),\n",
       "              'x0': ' ',\n",
       "              'xaxis': 'x',\n",
       "              'y': array([0.81017284, 0.89630769, 0.97015276, 0.98049062, 0.90664773, 0.93534483,\n",
       "                          0.98979592, 0.9575    , 0.81583333, 0.903125  , 0.95555556, 0.95928571,\n",
       "                          0.9368    , 0.92263889, 0.96125926, 0.73157025, 0.95913462, 0.81654545,\n",
       "                          0.9736    , 0.96506944, 0.2464    , 0.836875  , 0.96      , 0.72942857,\n",
       "                          0.79822222, 0.91733333, 0.48161844, 0.95053476, 0.8339    , 0.90953383,\n",
       "                          0.98421429, 0.73239766, 0.944     , 0.81545946, 0.99511111, 0.99325   ,\n",
       "                          0.98318994, 0.91452174, 0.72106667, 0.93564444, 0.94      , 0.91727273,\n",
       "                          0.77703704, 0.79061224, 0.82657407, 0.9374359 , 0.85462857, 0.9202    ,\n",
       "                          0.98611111, 0.65865385, 0.96288   , 0.9325    , 0.95032967, 0.94752066]),\n",
       "              'y0': ' ',\n",
       "              'yaxis': 'y'},\n",
       "             {'alignmentgroup': 'True',\n",
       "              'box': {'visible': True},\n",
       "              'customdata': array([[7.11466667e-01, 8.17777778e-03, 1.97333333e-02],\n",
       "                                   [6.61030177e-01, 1.17065557e-02, 5.20291363e-03],\n",
       "                                   [8.83964297e-01, 6.15574023e-04, 0.00000000e+00],\n",
       "                                   [7.54756243e-01, 1.48632580e-03, 0.00000000e+00],\n",
       "                                   [7.52047502e-01, 2.66175266e-03, 0.00000000e+00],\n",
       "                                   [5.09855769e-01, 9.61538462e-04, 0.00000000e+00],\n",
       "                                   [6.81725682e-01, 2.34025234e-03, 0.00000000e+00],\n",
       "                                   [8.24800000e-01, 4.00000000e-04, 0.00000000e+00],\n",
       "                                   [7.82653061e-01, 4.48979592e-03, 1.83673469e-03],\n",
       "                                   [2.94320988e-01, 5.06172840e-03, 3.45679012e-03],\n",
       "                                   [1.02118579e-02, 5.18213687e-03, 1.52415790e-04],\n",
       "                                   [8.74464286e-01, 4.64285714e-03, 1.60714286e-03],\n",
       "                                   [6.48820513e-01, 4.30769231e-03, 0.00000000e+00],\n",
       "                                   [2.39316239e-03, 6.83760684e-03, 7.52136752e-03],\n",
       "                                   [6.10000000e-01, 1.00000000e-02, 1.33333333e-02],\n",
       "                                   [8.60185185e-01, 4.62962963e-03, 0.00000000e+00],\n",
       "                                   [3.81414141e-01, 0.00000000e+00, 0.00000000e+00],\n",
       "                                   [5.92000000e-01, 6.28571429e-03, 1.00000000e-03],\n",
       "                                   [7.12638889e-01, 5.55555556e-04, 0.00000000e+00],\n",
       "                                   [5.82500000e-01, 1.75000000e-03, 0.00000000e+00],\n",
       "                                   [9.04000000e-01, 1.71428571e-03, 0.00000000e+00],\n",
       "                                   [6.05200000e-01, 8.00000000e-04, 0.00000000e+00],\n",
       "                                   [9.24722222e-01, 1.94444444e-03, 0.00000000e+00],\n",
       "                                   [9.22545455e-01, 3.27272727e-03, 3.63636364e-04],\n",
       "                                   [2.09600000e-01, 1.20000000e-03, 0.00000000e+00],\n",
       "                                   [2.39523810e-01, 7.85714286e-03, 1.66666667e-03]]),\n",
       "              'hovertemplate': ('Class=%{x}<br>V23=%{y}<br>V2=%' ... '{customdata[2]}<extra></extra>'),\n",
       "              'legendgroup': '1',\n",
       "              'marker': {'color': '#EF553B'},\n",
       "              'name': '1',\n",
       "              'offsetgroup': '1',\n",
       "              'orientation': 'v',\n",
       "              'points': 'all',\n",
       "              'scalegroup': 'True',\n",
       "              'showlegend': True,\n",
       "              'type': 'violin',\n",
       "              'x': array([1, 1, 1, 1, 1, 1, 1, 1, 1, 1, 1, 1, 1, 1, 1, 1, 1, 1, 1, 1, 1, 1, 1, 1,\n",
       "                          1, 1]),\n",
       "              'x0': ' ',\n",
       "              'xaxis': 'x',\n",
       "              'y': array([0.26062222, 0.32206035, 0.11542013, 0.24375743, 0.24529075, 0.48918269,\n",
       "                          0.31593407, 0.1748    , 0.21102041, 0.69716049, 0.98445359, 0.11928571,\n",
       "                          0.34687179, 0.98324786, 0.36666667, 0.13518519, 0.61858586, 0.40071429,\n",
       "                          0.28680556, 0.41575   , 0.09428571, 0.394     , 0.07333333, 0.07381818,\n",
       "                          0.7892    , 0.75095238]),\n",
       "              'y0': ' ',\n",
       "              'yaxis': 'y'}],\n",
       "    'layout': {'legend': {'title': {'text': 'Class'}, 'tracegroupgap': 0},\n",
       "               'margin': {'t': 60},\n",
       "               'template': '...',\n",
       "               'violinmode': 'overlay',\n",
       "               'xaxis': {'anchor': 'y',\n",
       "                         'categoryarray': [0, 1],\n",
       "                         'categoryorder': 'array',\n",
       "                         'domain': [0.0, 1.0],\n",
       "                         'title': {'text': 'Class'}},\n",
       "               'yaxis': {'anchor': 'x', 'domain': [0.0, 1.0], 'title': {'text': 'V23'}}}\n",
       "})"
      ]
     },
     "execution_count": 10,
     "metadata": {},
     "output_type": "execute_result"
    }
   ],
   "source": [
    "y = train_scaled.columns[1]\n",
    "px.violin(train, y=y, x=\"Class\", color=\"Class\", box=True, points=\"all\",\n",
    "        hover_data=train1.columns)"
   ]
  },
  {
   "cell_type": "code",
   "execution_count": 11,
   "metadata": {},
   "outputs": [
    {
     "data": {
      "image/png": "[encoded data removed]",
      "text/plain": [
       "<Figure size 640x480 with 2 Axes>"
      ]
     },
     "metadata": {},
     "output_type": "display_data"
    }
   ],
   "source": [
    "plt.scatter(train['V2'], train['V23'], c=train['Class'])\n",
    "plt.xlabel('V2')\n",
    "plt.ylabel('V23')\n",
    "plt.title('Scatter Plot')\n",
    "plt.colorbar(label='Class')\n",
    "plt.show()"
   ]
  },
  {
   "cell_type": "code",
   "execution_count": 12,
   "metadata": {},
   "outputs": [
    {
     "data": {
      "image/png": "[encoded data removed]",
      "text/plain": [
       "<Figure size 640x480 with 2 Axes>"
      ]
     },
     "metadata": {},
     "output_type": "display_data"
    }
   ],
   "source": [
    "plt.scatter(train['V2'], train['V65'], c=train['Class'])\n",
    "plt.xlabel('V2')\n",
    "plt.ylabel('V65')\n",
    "plt.title('Scatter Plot')\n",
    "plt.colorbar(label='Class')\n",
    "plt.show()"
   ]
  },
  {
   "cell_type": "markdown",
   "metadata": {},
   "source": [
    "## Método de Elbow\n",
    "\n",
    "Vamos utilizar o método de Elbow para descobrir qual o k ideal para o Kmeans\n",
    "\n",
    "Para isso, vamos plotar o gráfico da sum_of_squared_distances considerando cada k\n",
    "\n",
    "Vemos que k = 4 é o ideal, pois a partir daí não parece haver diminuição significativa  dessa soma.\n",
    "\n",
    "OBS: é importante que os dados estejam normalizados nessa análise."
   ]
  },
  {
   "cell_type": "code",
   "execution_count": 13,
   "metadata": {},
   "outputs": [
    {
     "data": {
      "image/png": "[encoded data removed]",
      "text/plain": [
       "<Figure size 800x400 with 1 Axes>"
      ]
     },
     "metadata": {},
     "output_type": "display_data"
    }
   ],
   "source": [
    "K = range(1,11)\n",
    "sum_of_squared_distances = []\n",
    "for k in K:\n",
    "    kmeans = KMeans(n_clusters=k)\n",
    "    kmeans = kmeans.fit(train_scaled)\n",
    "    sum_of_squared_distances.append(kmeans.inertia_)\n",
    "\n",
    "# Plot the elbow graph\n",
    "plt.figure(figsize=(8, 4))\n",
    "plt.plot(K, sum_of_squared_distances, 'bx-')\n",
    "plt.xlabel('k')\n",
    "plt.ylabel('Sum of squared distances')\n",
    "plt.title('Elbow Method For Optimal k')\n",
    "\n",
    "plt.show()"
   ]
  },
  {
   "cell_type": "markdown",
   "metadata": {},
   "source": [
    "## Comparando algoritmos\n",
    "\n",
    "|  Métrica | Silhueta  | ARI  |\n",
    "|------------|------------|------------|\n",
    "| single-linkage | 0.661 | -0.034|\n",
    "| average-linkage| 0.612 | -0.034|\n",
    "| complete-linkage| 0.611 | -0.034|\n",
    "| KMeans| 0.586 | 0.713 |\n",
    "\n",
    "O coeficiente de silhueta é utilizado para dar uma nota para a clusterização, quanto mais proximo de 1 melhor, ou seja. \n",
    "\n",
    "Para isso, ela fornece uma ideia sobre o quão próximo um ponto de dados está ao seu próprio cluster em comparação com os outros clusters\n",
    "\n",
    "Vemos que a clusterização hierárquica obteve um coeficiente ligeiramente melhor nesse quesito, lendo a single-linkage a melhor.\n",
    "\n",
    "Já o ARI vai falar quanto o resultado da clusterização está próximo dos labels reais. \n",
    "\n",
    "Dessa forma, vemos que o KMeans se sai muito melhor. \n",
    "\n",
    "O resultao do algoritmo hierárquico foi muito ruim, pois foi menor que 0, quer dizer que a atribuição aleatória é melhor que a clusterização.\n"
   ]
  },
  {
   "cell_type": "code",
   "execution_count": 14,
   "metadata": {},
   "outputs": [
    {
     "name": "stdout",
     "output_type": "stream",
     "text": [
      "Silhueta:  complete 0.6119789360677478\n",
      "ARI:  complete -0.034459861459351496\n",
      "Silhueta:  average 0.6119789360677478\n",
      "ARI:  average -0.034459861459351496\n",
      "Silhueta:  single 0.6119789360677478\n",
      "ARI:  single -0.034459861459351496\n"
     ]
    }
   ],
   "source": [
    "for linkage in ['complete', 'average', 'single']:\n",
    "    clustering = AgglomerativeClustering(n_clusters=2, linkage=linkage).fit(train_scaled)\n",
    "    print(\"Silhueta: \",linkage, silhouette_score(train_scaled, clustering.labels_))\n",
    "    print(\"ARI: \",linkage, adjusted_rand_score(train['Class'], clustering.labels_))"
   ]
  },
  {
   "cell_type": "code",
   "execution_count": 15,
   "metadata": {},
   "outputs": [
    {
     "name": "stdout",
     "output_type": "stream",
     "text": [
      "Silhueta:  KMeans 0.590344045374349\n",
      "ARI:  KMeans 0.6686154563484246\n"
     ]
    }
   ],
   "source": [
    "clustering = KMeans(n_clusters=2).fit(train_scaled)\n",
    "print(\"Silhueta: \", \"KMeans\", silhouette_score(train_scaled, clustering.labels_))\n",
    "print(\"ARI: \",\"KMeans\", adjusted_rand_score(train['Class'], clustering.labels_))"
   ]
  },
  {
   "cell_type": "markdown",
   "metadata": {},
   "source": []
  }
 ],
 "metadata": {
  "kernelspec": {
   "display_name": "sop",
   "language": "python",
   "name": "python3"
  },
  "language_info": {
   "codemirror_mode": {
    "name": "ipython",
    "version": 3
   },
   "file_extension": ".py",
   "mimetype": "text/x-python",
   "name": "python",
   "nbconvert_exporter": "python",
   "pygments_lexer": "ipython3",
   "version": "3.10.14"
  }
 },
 "nbformat": 4,
 "nbformat_minor": 2
}
